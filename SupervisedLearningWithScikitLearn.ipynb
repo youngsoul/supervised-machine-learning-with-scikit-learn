{
 "cells": [
  {
   "cell_type": "markdown",
   "metadata": {},
   "source": [
    "# Supervised Learning with Scikit Learn and Python\n",
    "\n",
    "This notebook contains information about Supervised Machine Learning and specifically how to perform Supervised Machine Learning with the framework Scikit Learn.\n",
    "\n",
    "![DataIdea](images/franki-chamaki-694946-unsplash.jpg)"
   ]
  },
  {
   "cell_type": "markdown",
   "metadata": {},
   "source": [
    "This notebook take a developer centric approach to the topic and is therefore very example heavy.  This notebook does assume familiarity with Python to follow along with the coding examples.  However, even without Python programming experience - the reader should be able to take away the concepts highlighted by the coding examples.\n",
    "\n",
    "This notebook with cover the following:\n",
    "\n",
    "* Introduction to Supervised Machine Learning\n",
    "* Environment Setup\n",
    "* Supervised Classification\n",
    "* Supervised Regression\n",
    "* How to tune a model\n",
    "* How to preprocess data\n",
    "* Model Pipelines\n",
    "\n",
    "This information is meant as an introduction to the topic.  Not all aspects of machine learning, nor all of the Scikit-Learn models will be covered.  However, by the end you should be comfortable performing machine learning and continuing your Machine Learning journey.\n",
    "\n",
    "Machine Learning can be further divided into *Deep Learning* and *Shallow Learning*.  \n",
    "\n",
    "* **Deep Learning**\n",
    "\n",
    "Deep Learning is a branch of machine learning that involved neural networks that can figure out on their own the optimal parameters and weights to achieve the best performance of the model.\n",
    "\n",
    "Deep learning significantly reduces the need for feature engineering which is nearly always required for shallow learning.  In addition, Deep learning neural networks excel at identifying the interactions of all of the features.\n",
    "\n",
    "\n",
    "* **Shallow Learning**\n",
    "\n",
    "Shallow learning involves algorithms that a Data Scientist or Machine Learning Engineer must assist in the tuning of hte algorithm to achieve the best performance.\n",
    "\n",
    "Unless explicitly modeled to do so, feature interactions are not generally considered, although it is possible to do that.\n",
    "\n",
    "This notebook focuses on Shallow Supervised Learning for classification and regression problems.\n",
    "\n",
    "**<font size=\"3\">Scikit-learn Models</font>**\n",
    "\n",
    "All machine learning models implemented as Python class.\n",
    "\n",
    "The models implement the algorithm for learning and predicting.  Every model has the same programatic API, meaning you can easily swap one model for another to see how each model performs\n",
    "\n",
    "*If you’re going to do Machine Learning in Python, Scikit Learn is the gold standard. Scikit-learn provides a wide selection of supervised and unsupervised learning algorithms. Best of all, it’s by far the easiest and cleanest ML library.*  [KDNuggests](https://www.kdnuggets.com/2019/02/introduction-scikit-learn-gold-standard-python-machine-learning.html)\n"
   ]
  },
  {
   "cell_type": "markdown",
   "metadata": {},
   "source": [
    "## Target Audience"
   ]
  },
  {
   "cell_type": "markdown",
   "metadata": {},
   "source": [
    "This content looks at machine learning from the application developers perspective.  As such, there is an assumption that the person reading this material will have some familiarity with programming languages, Python is used here, and is comfortable using 3rd party libraries and frameworks.\n",
    "\n",
    "There is no assumption that Machine Learning is understood, nor any statistics and mathematics.  \n",
    "\n",
    "This notebook is about how to develop software with machine learning algorithms using Scikit-Learn with Python.\n",
    "\n",
    "It is ok to not understand everything, the goal is to get a sense for what machine learning development looks like."
   ]
  },
  {
   "cell_type": "markdown",
   "metadata": {},
   "source": [
    "## Introduction to Supervised Machine Learning"
   ]
  },
  {
   "cell_type": "markdown",
   "metadata": {},
   "source": [
    "### What is machine learning, and how does it work?\n",
    "\n",
    "From, Andreas Muller (Author of Scikit-Learn framework):\n",
    "\n",
    "\"Machine learning is the art and science of giving computers the ability to learn to make decisions from data... *without* the being explicitly programmed.\"\n",
    "\n",
    "![DataScience Venn Diagram](images/data-science-venn-diagram-computer-science-machine.png)"
   ]
  },
  {
   "cell_type": "markdown",
   "metadata": {},
   "source": [
    "Machine learning makes predictions.\n",
    "\n",
    "This implies and probabalistic outcome.  A machine learning algorithm can predict an outcome, with a certain level of confidence, but not with complete confidence.\n",
    "\n",
    "This differs from traditional algorithm that are designed to arrive at absolute outcomes.  \n",
    "\n",
    "To use machine learning, the business has to be comfortable with the prediction sometimes being - **wrong**."
   ]
  },
  {
   "cell_type": "markdown",
   "metadata": {},
   "source": [
    "### What are the three main categories of machine learning?\n",
    "\n",
    "* **Supervised Learning**\n",
    "* **Unsupervised Learning**\n",
    "* **Reinforcement Learning**\n"
   ]
  },
  {
   "cell_type": "markdown",
   "metadata": {},
   "source": [
    "\n",
    "**Supervised learning**: Making predictions using labeled data\n",
    "\n",
    "Used for Classification and Regression\n",
    "    \n",
    "- Example: Is a given email \"spam\" or \"ham\"?\n",
    "- There is an outcome we are trying to predict\n",
    "\n",
    "![Spam filter](images/01_spam_filter.png)"
   ]
  },
  {
   "cell_type": "markdown",
   "metadata": {},
   "source": [
    "**Unsupervised learning**: Extracting structure from data\n",
    "\n",
    "Used for Clustering\n",
    "\n",
    "- Example: Segment grocery store shoppers into clusters that exhibit similar behaviors\n",
    "- There is no \"right answer\"\n",
    "- uncovers hidden patterns from unlabeled data"
   ]
  },
  {
   "cell_type": "markdown",
   "metadata": {},
   "source": [
    "![Clustering](images/01_clustering.png)"
   ]
  },
  {
   "cell_type": "markdown",
   "metadata": {},
   "source": [
    "**Reinforcement learning**: Goal or reward oriented algorithms\n",
    "\n",
    "Algorithms react to an environment\n",
    "\n",
    "- Gaming: used to play games like AlphaGo with many possible next actions\n",
    "- Solves the problem of correlating immediate actions with the delayed returns they product\n"
   ]
  },
  {
   "cell_type": "markdown",
   "metadata": {},
   "source": [
    "### Features and Targets\n",
    "\n",
    "Machine learning problems require a set of inputs.  These are called *features*.  The goal is to predict an outcome, called *target*.\n",
    "\n",
    "The *target* could be a simple binary value, such as yes, detected cancer or no - algorithm did not or it can be a multi-class target such as, sentiment analysis where the target is angry, happy, like, dislike, sad.\n"
   ]
  },
  {
   "cell_type": "markdown",
   "metadata": {},
   "source": [
    "### What are the two main types of Supervised machine learning?\n",
    "\n",
    "#### Classification\n",
    "\n",
    "Target variables consist of categories. \n",
    "* Ham / Spam Email\n",
    "* Flower Species\n",
    "* Fraud / Not Fraud\n",
    "* Sentiment Analysis\n",
    "\n",
    "#### Regression\n",
    "\n",
    "Target variable is continous\n",
    "* Home price\n",
    "* Salary\n",
    "* Weight\n",
    "\n",
    "Regression can be further broken down into Linear and Non-Linear regression"
   ]
  },
  {
   "cell_type": "markdown",
   "metadata": {},
   "source": [
    "### Supervised Machine Learning \n",
    "\n",
    "Uses known outcomes, known as targets or labels.  \n",
    "\n",
    "Uses features or attributes about something, such as flower attributes and the target is the kind of flower.\n",
    "\n",
    "High-level steps of **supervised learning**:\n",
    "\n",
    "1. Gather and Clean Data\n",
    "    - Typically a high effort activity\n",
    "\n",
    "\n",
    "2. Feature Selection / Feature Engineering\n",
    "    - A feature is typically a column in a data set\n",
    "    - What data is relevant to question trying to be answered\n",
    "    - Some features just add noise and actually produce worse accuracy\n",
    "\n",
    "\n",
    "3. Select Machine Learning Model / Algorithm\n",
    "    - Different algorithms have very different prediction characteristics\n",
    "    - You will likely try many different kinds of Machine Learning Algorithms and determine the best one\n",
    "\n",
    "\n",
    "4. First, train a **machine learning model** using **labeled data**\n",
    "\n",
    "    - \"Labeled data\" has been labeled with the outcome\n",
    "    - \"Machine learning model\" learns the relationship between the attributes of the data and its outcome\n",
    "\n",
    "\n",
    "5. Then, make **predictions** on **new data** for which the label is unknown"
   ]
  },
  {
   "cell_type": "markdown",
   "metadata": {},
   "source": [
    "## Environment Setup"
   ]
  },
  {
   "cell_type": "markdown",
   "metadata": {},
   "source": [
    "**Install Python 3.6.x**\n",
    "This notebook assumes Python 3.6.x and has not been tested with Python 3.7.x \n",
    "\n",
    "**Create a Python Virtual Environment**\n",
    "There are numerous ways to do this.  For MacOS you can do the following:\n",
    "\n",
    "Create a directory to hold your project code and cd into that directory\n",
    "\n",
    "`python3 -m venv venv`\n",
    "\n",
    "`source venv/bin/activate`\n",
    "\n",
    "on Windows run:\n",
    "\n",
    "`\\venv\\Scripts\\activate.bat`\n",
    "\n",
    "**Install Python libraries**\n",
    "* pip install scipy\n",
    "* pip install numpy\n",
    "* pip install scikit-learn\n",
    "* pip install jupyter\n",
    "* pip install matplotlib\n",
    "* pip install pandas\n",
    "* pip install seaborn\n",
    "\n",
    "`pip install scipy numpy scikit-learn jupyter matplotlib pandas seaborn`\n"
   ]
  },
  {
   "cell_type": "markdown",
   "metadata": {},
   "source": [
    "If you would like to run examples in the Jupyter notebook, you can execute:\n",
    "\n",
    "`jupyter notebook`"
   ]
  },
  {
   "cell_type": "markdown",
   "metadata": {},
   "source": [
    "### Test Installation\n",
    "\n",
    "Run the following cell to make sure it executes.  This is also a quick look at how a machine learning model is created and tested."
   ]
  },
  {
   "cell_type": "code",
   "execution_count": 1,
   "metadata": {
    "ExecuteTime": {
     "end_time": "2019-02-28T04:42:21.111510Z",
     "start_time": "2019-02-28T04:42:20.730941Z"
    }
   },
   "outputs": [
    {
     "name": "stdout",
     "output_type": "stream",
     "text": [
      "Testing Score: 0.9210526315789473\n",
      "Prediction: 0\n",
      "Predicted target name: ['setosa']\n"
     ]
    }
   ],
   "source": [
    "from sklearn.datasets import load_iris\n",
    "from sklearn.model_selection import train_test_split\n",
    "from sklearn.neighbors import KNeighborsClassifier\n",
    "import numpy as np\n",
    "\n",
    "# Load the data\n",
    "iris_dataset = load_iris()\n",
    "X = iris_dataset['data']\n",
    "y = iris_dataset['target']\n",
    "\n",
    "# Split the data into training and testing sets\n",
    "X_train, X_test, y_train, y_test = train_test_split(X,y,random_state=12,stratify=y)\n",
    "\n",
    "# Instantiate the model\n",
    "knn = KNeighborsClassifier(n_neighbors=1)\n",
    "\n",
    "# Fit the model\n",
    "knn.fit(X_train, y_train)\n",
    "\n",
    "# Score the model on the unseen test data set\n",
    "score = knn.score(X_test, y_test)\n",
    "print(f\"Testing Score: {score}\")\n",
    "\n",
    "# Predict on new data\n",
    "new_data = np.array([[5, 2.9, 1, 0.2]])\n",
    "prediction = knn.predict(new_data)\n",
    "print(f\"Prediction: {prediction[0]}\")\n",
    "print(f\"Predicted target name: {iris_dataset['target_names'][prediction]}\")"
   ]
  },
  {
   "cell_type": "markdown",
   "metadata": {},
   "source": [
    "If the above works you should see output like:\n",
    "```\n",
    "Testing Score: 0.9210526315789473\n",
    "Prediction: 0\n",
    "Predicted target name: ['setosa']\n",
    "```"
   ]
  },
  {
   "cell_type": "markdown",
   "metadata": {},
   "source": [
    "## Drive right in with an example - autonomous driving\n",
    "\n",
    "<font size=\"3\" color=\"red\">This example has only been tested on MacOS and Linux</font>\n",
    "\n",
    "This example was inspired by EDX Course:\n",
    "\n",
    "[Course](https://courses.edx.org/courses/course-v1:AWS+OTP-AWSD4+3T2018/courseware/df165b3cae0a464ca30b2d79aa90af3f/fe79e0818f7340e889e7efe303e60957/5?activate_block_id=block-v1%3AAWS%2BOTP-AWSD4%2B3T2018%2Btype%40vertical%2Bblock%407d57613d338f43c5beee1bc6a5483e2b)\n",
    "\n",
    "<font size=\"4\">\n",
    "AWS: OTP-AWSD4\n",
    "Amazon SageMaker: Simplifying Machine Learning Application Development\n",
    "    </font>\n",
    "    \n",
    "\n",
    "The above example uses AWS SageMaker and AWS Services, and it was adapted to run locally with scikit-learn models"
   ]
  },
  {
   "cell_type": "markdown",
   "metadata": {},
   "source": [
    "![DriveExample](images/ex1.1-animated.gif)\n"
   ]
  },
  {
   "cell_type": "markdown",
   "metadata": {},
   "source": [
    "This example will collect driving training data on a windy road, train a model on that data, then drive the car on the same windy road or a random road based on the predict from the model.\n",
    "\n",
    "### Step 1 - collect the training data\n",
    "\n",
    "- Open a terminal from the Juypter notebook Home page.\n",
    "\n",
    "- change directory to driver\n",
    "\n",
    "- execute:  python training.py\n",
    "\n",
    "This will allow you to drive car on the simulated road, and it will collect your driving in a training.csv\n",
    "\n",
    "### Step 2 - determine the best model to use\n",
    "\n",
    "Look at the file, *model_training.py* to see how a number of scikit-learn models were tested and the best one selected.\n",
    "\n",
    "In this case, KNN, which we will see soon, performed the best.\n",
    "\n",
    "The best model will be saved to a file called *driving_model.sav*\n",
    "\n",
    "### Step 3 - simulate autonomous driving using the predictions from the model\n",
    "\n",
    "- Open a terminal, or use the same one as above\n",
    "\n",
    "- change directory to driver\n",
    "\n",
    "- execute: python drive_by_model.py\n",
    "\n",
    "You can select random or sine wave road, and the simulator will use the output of the Machine Learning model to predict which way to turn to stay on the road.\n",
    "\n",
    "\n",
    "\n"
   ]
  },
  {
   "cell_type": "markdown",
   "metadata": {},
   "source": [
    "Lets Look at some of the training data including what the road looks like when determining which direction to steer."
   ]
  },
  {
   "cell_type": "code",
   "execution_count": 1,
   "metadata": {
    "ExecuteTime": {
     "end_time": "2019-02-28T18:26:38.778338Z",
     "start_time": "2019-02-28T18:26:38.440481Z"
    }
   },
   "outputs": [],
   "source": [
    "import pandas as pd\n",
    "import numpy as np\n",
    "\n",
    "df = pd.read_csv('./driver/training_notebook.csv', header=None)\n",
    "matrix = df.values\n",
    "direction = ['Left', 'Straight', 'Right']\n",
    "\n",
    "%matplotlib inline\n",
    "import matplotlib.pyplot as plt\n",
    "\n",
    "def show_road(img, caption='', subplot=None):\n",
    "    if subplot==None:\n",
    "        _,(subplot)=plt.subplots(1,1)\n",
    "    imgr=img.reshape((10,25))\n",
    "    subplot.axis('off')\n",
    "    subplot.imshow(imgr, cmap='gray')\n",
    "    plt.title(caption)\n",
    "\n"
   ]
  },
  {
   "cell_type": "code",
   "execution_count": 2,
   "metadata": {
    "ExecuteTime": {
     "end_time": "2019-02-28T18:26:40.861716Z",
     "start_time": "2019-02-28T18:26:40.840610Z"
    }
   },
   "outputs": [
    {
     "data": {
      "text/html": [
       "<div>\n",
       "<style scoped>\n",
       "    .dataframe tbody tr th:only-of-type {\n",
       "        vertical-align: middle;\n",
       "    }\n",
       "\n",
       "    .dataframe tbody tr th {\n",
       "        vertical-align: top;\n",
       "    }\n",
       "\n",
       "    .dataframe thead th {\n",
       "        text-align: right;\n",
       "    }\n",
       "</style>\n",
       "<table border=\"1\" class=\"dataframe\">\n",
       "  <thead>\n",
       "    <tr style=\"text-align: right;\">\n",
       "      <th></th>\n",
       "      <th>0</th>\n",
       "      <th>1</th>\n",
       "      <th>2</th>\n",
       "      <th>3</th>\n",
       "      <th>4</th>\n",
       "      <th>5</th>\n",
       "      <th>6</th>\n",
       "      <th>7</th>\n",
       "      <th>8</th>\n",
       "      <th>9</th>\n",
       "      <th>...</th>\n",
       "      <th>241</th>\n",
       "      <th>242</th>\n",
       "      <th>243</th>\n",
       "      <th>244</th>\n",
       "      <th>245</th>\n",
       "      <th>246</th>\n",
       "      <th>247</th>\n",
       "      <th>248</th>\n",
       "      <th>249</th>\n",
       "      <th>250</th>\n",
       "    </tr>\n",
       "  </thead>\n",
       "  <tbody>\n",
       "    <tr>\n",
       "      <th>0</th>\n",
       "      <td>1</td>\n",
       "      <td>0</td>\n",
       "      <td>0</td>\n",
       "      <td>0</td>\n",
       "      <td>0</td>\n",
       "      <td>0</td>\n",
       "      <td>0</td>\n",
       "      <td>0</td>\n",
       "      <td>0</td>\n",
       "      <td>0</td>\n",
       "      <td>...</td>\n",
       "      <td>0</td>\n",
       "      <td>0</td>\n",
       "      <td>0</td>\n",
       "      <td>0</td>\n",
       "      <td>0</td>\n",
       "      <td>0</td>\n",
       "      <td>0</td>\n",
       "      <td>0</td>\n",
       "      <td>0</td>\n",
       "      <td>0</td>\n",
       "    </tr>\n",
       "    <tr>\n",
       "      <th>1</th>\n",
       "      <td>0</td>\n",
       "      <td>0</td>\n",
       "      <td>0</td>\n",
       "      <td>0</td>\n",
       "      <td>0</td>\n",
       "      <td>0</td>\n",
       "      <td>0</td>\n",
       "      <td>0</td>\n",
       "      <td>1</td>\n",
       "      <td>2</td>\n",
       "      <td>...</td>\n",
       "      <td>0</td>\n",
       "      <td>0</td>\n",
       "      <td>0</td>\n",
       "      <td>0</td>\n",
       "      <td>0</td>\n",
       "      <td>0</td>\n",
       "      <td>0</td>\n",
       "      <td>0</td>\n",
       "      <td>0</td>\n",
       "      <td>0</td>\n",
       "    </tr>\n",
       "    <tr>\n",
       "      <th>2</th>\n",
       "      <td>0</td>\n",
       "      <td>0</td>\n",
       "      <td>0</td>\n",
       "      <td>0</td>\n",
       "      <td>0</td>\n",
       "      <td>0</td>\n",
       "      <td>0</td>\n",
       "      <td>0</td>\n",
       "      <td>1</td>\n",
       "      <td>2</td>\n",
       "      <td>...</td>\n",
       "      <td>0</td>\n",
       "      <td>0</td>\n",
       "      <td>0</td>\n",
       "      <td>0</td>\n",
       "      <td>0</td>\n",
       "      <td>0</td>\n",
       "      <td>0</td>\n",
       "      <td>0</td>\n",
       "      <td>0</td>\n",
       "      <td>0</td>\n",
       "    </tr>\n",
       "    <tr>\n",
       "      <th>3</th>\n",
       "      <td>2</td>\n",
       "      <td>0</td>\n",
       "      <td>0</td>\n",
       "      <td>0</td>\n",
       "      <td>0</td>\n",
       "      <td>0</td>\n",
       "      <td>0</td>\n",
       "      <td>0</td>\n",
       "      <td>0</td>\n",
       "      <td>1</td>\n",
       "      <td>...</td>\n",
       "      <td>1</td>\n",
       "      <td>0</td>\n",
       "      <td>0</td>\n",
       "      <td>0</td>\n",
       "      <td>0</td>\n",
       "      <td>0</td>\n",
       "      <td>0</td>\n",
       "      <td>0</td>\n",
       "      <td>0</td>\n",
       "      <td>0</td>\n",
       "    </tr>\n",
       "    <tr>\n",
       "      <th>4</th>\n",
       "      <td>2</td>\n",
       "      <td>0</td>\n",
       "      <td>0</td>\n",
       "      <td>0</td>\n",
       "      <td>0</td>\n",
       "      <td>0</td>\n",
       "      <td>0</td>\n",
       "      <td>0</td>\n",
       "      <td>0</td>\n",
       "      <td>1</td>\n",
       "      <td>...</td>\n",
       "      <td>2</td>\n",
       "      <td>1</td>\n",
       "      <td>0</td>\n",
       "      <td>0</td>\n",
       "      <td>0</td>\n",
       "      <td>0</td>\n",
       "      <td>0</td>\n",
       "      <td>0</td>\n",
       "      <td>0</td>\n",
       "      <td>0</td>\n",
       "    </tr>\n",
       "  </tbody>\n",
       "</table>\n",
       "<p>5 rows × 251 columns</p>\n",
       "</div>"
      ],
      "text/plain": [
       "   0    1    2    3    4    5    6    7    8    9   ...   241  242  243  244  \\\n",
       "0    1    0    0    0    0    0    0    0    0    0 ...     0    0    0    0   \n",
       "1    0    0    0    0    0    0    0    0    1    2 ...     0    0    0    0   \n",
       "2    0    0    0    0    0    0    0    0    1    2 ...     0    0    0    0   \n",
       "3    2    0    0    0    0    0    0    0    0    1 ...     1    0    0    0   \n",
       "4    2    0    0    0    0    0    0    0    0    1 ...     2    1    0    0   \n",
       "\n",
       "   245  246  247  248  249  250  \n",
       "0    0    0    0    0    0    0  \n",
       "1    0    0    0    0    0    0  \n",
       "2    0    0    0    0    0    0  \n",
       "3    0    0    0    0    0    0  \n",
       "4    0    0    0    0    0    0  \n",
       "\n",
       "[5 rows x 251 columns]"
      ]
     },
     "execution_count": 2,
     "metadata": {},
     "output_type": "execute_result"
    }
   ],
   "source": [
    "df.head()"
   ]
  },
  {
   "cell_type": "code",
   "execution_count": 6,
   "metadata": {
    "ExecuteTime": {
     "end_time": "2019-02-28T16:42:12.206678Z",
     "start_time": "2019-02-28T16:42:12.113626Z"
    }
   },
   "outputs": [
    {
     "data": {
      "image/png": "[encoded data removed]",
      "text/plain": [
       "<Figure size 432x288 with 1 Axes>"
      ]
     },
     "metadata": {
      "needs_background": "light"
     },
     "output_type": "display_data"
    }
   ],
   "source": [
    "row = 14\n",
    "show_road(matrix[row][1:], \"Label = {}, {}\".format(matrix[row][0], direction[matrix[row][0]]))"
   ]
  },
  {
   "cell_type": "code",
   "execution_count": 7,
   "metadata": {
    "ExecuteTime": {
     "end_time": "2019-02-28T16:42:17.315176Z",
     "start_time": "2019-02-28T16:42:17.222629Z"
    }
   },
   "outputs": [
    {
     "data": {
      "image/png": "[encoded data removed]",
      "text/plain": [
       "<Figure size 432x288 with 1 Axes>"
      ]
     },
     "metadata": {
      "needs_background": "light"
     },
     "output_type": "display_data"
    }
   ],
   "source": [
    "row = 50\n",
    "show_road(matrix[row][1:], \"Label = {}, {}\".format(matrix[row][0], direction[matrix[row][0]]))"
   ]
  },
  {
   "cell_type": "code",
   "execution_count": 8,
   "metadata": {
    "ExecuteTime": {
     "end_time": "2019-02-28T16:42:23.047496Z",
     "start_time": "2019-02-28T16:42:22.933655Z"
    }
   },
   "outputs": [
    {
     "data": {
      "image/png": "[encoded data removed]",
      "text/plain": [
       "<Figure size 432x288 with 1 Axes>"
      ]
     },
     "metadata": {
      "needs_background": "light"
     },
     "output_type": "display_data"
    }
   ],
   "source": [
    "row = 67\n",
    "show_road(matrix[row][1:], \"Label = {}, {}\".format(matrix[row][0], direction[matrix[row][0]]))"
   ]
  },
  {
   "cell_type": "markdown",
   "metadata": {},
   "source": [
    "## Classification Models"
   ]
  },
  {
   "cell_type": "markdown",
   "metadata": {},
   "source": [
    "### Getting started with the famous Iris dataset"
   ]
  },
  {
   "cell_type": "markdown",
   "metadata": {},
   "source": [
    "<font size=\"3\">Iris Dataset</font>\n",
    "\n",
    "![IrisFlowers](images/iris-machinelearning.png)\n",
    "\n",
    "\n",
    "\n",
    "![Iris](images/03_iris.png)\n",
    "\n",
    "- 50 samples of 3 different species of iris (150 samples total)\n",
    "- Measurements: sepal length, sepal width, petal length, petal width\n",
    "\n",
    "Supervised Learning Problem:\n",
    "\n",
    "Predict the species of an Iris using the measurements"
   ]
  },
  {
   "cell_type": "markdown",
   "metadata": {},
   "source": [
    "### Library Imports"
   ]
  },
  {
   "cell_type": "code",
   "execution_count": 3,
   "metadata": {
    "ExecuteTime": {
     "end_time": "2019-02-28T18:39:33.146059Z",
     "start_time": "2019-02-28T18:39:32.837716Z"
    }
   },
   "outputs": [],
   "source": [
    "import pandas as pd\n",
    "import numpy as np\n",
    "from sklearn import datasets\n",
    "from sklearn.neighbors import KNeighborsClassifier\n",
    "import numpy as np\n",
    "import matplotlib.pyplot as plt\n",
    "%matplotlib inline\n",
    "\n",
    "plt.style.use('ggplot')"
   ]
  },
  {
   "cell_type": "code",
   "execution_count": 4,
   "metadata": {
    "ExecuteTime": {
     "end_time": "2019-02-28T18:39:36.482921Z",
     "start_time": "2019-02-28T18:39:36.477776Z"
    }
   },
   "outputs": [],
   "source": [
    "# Load the iris dataset from scikit-learn\n",
    "iris = datasets.load_iris()"
   ]
  },
  {
   "cell_type": "code",
   "execution_count": 9,
   "metadata": {
    "ExecuteTime": {
     "end_time": "2019-02-28T04:42:21.776469Z",
     "start_time": "2019-02-28T04:42:21.772248Z"
    }
   },
   "outputs": [
    {
     "data": {
      "text/plain": [
       "sklearn.utils.Bunch"
      ]
     },
     "execution_count": 9,
     "metadata": {},
     "output_type": "execute_result"
    }
   ],
   "source": [
    "type(iris)"
   ]
  },
  {
   "cell_type": "code",
   "execution_count": 5,
   "metadata": {
    "ExecuteTime": {
     "end_time": "2019-02-28T18:40:05.550154Z",
     "start_time": "2019-02-28T18:40:05.546262Z"
    }
   },
   "outputs": [
    {
     "data": {
      "text/plain": [
       "dict_keys(['data', 'target', 'target_names', 'DESCR', 'feature_names', 'filename'])"
      ]
     },
     "execution_count": 5,
     "metadata": {},
     "output_type": "execute_result"
    }
   ],
   "source": [
    "iris.keys()"
   ]
  },
  {
   "cell_type": "markdown",
   "metadata": {},
   "source": [
    "Features are in data\n",
    "Labels are in targets"
   ]
  },
  {
   "cell_type": "code",
   "execution_count": 6,
   "metadata": {
    "ExecuteTime": {
     "end_time": "2019-02-28T18:40:17.719061Z",
     "start_time": "2019-02-28T18:40:17.715484Z"
    }
   },
   "outputs": [
    {
     "data": {
      "text/plain": [
       "array(['setosa', 'versicolor', 'virginica'], dtype='<U10')"
      ]
     },
     "execution_count": 6,
     "metadata": {},
     "output_type": "execute_result"
    }
   ],
   "source": [
    "iris.target_names"
   ]
  },
  {
   "cell_type": "code",
   "execution_count": 7,
   "metadata": {
    "ExecuteTime": {
     "end_time": "2019-02-28T18:40:20.296038Z",
     "start_time": "2019-02-28T18:40:20.292162Z"
    }
   },
   "outputs": [
    {
     "data": {
      "text/plain": [
       "['sepal length (cm)',\n",
       " 'sepal width (cm)',\n",
       " 'petal length (cm)',\n",
       " 'petal width (cm)']"
      ]
     },
     "execution_count": 7,
     "metadata": {},
     "output_type": "execute_result"
    }
   ],
   "source": [
    "iris.feature_names"
   ]
  },
  {
   "cell_type": "code",
   "execution_count": 13,
   "metadata": {
    "ExecuteTime": {
     "end_time": "2019-02-28T04:42:21.801284Z",
     "start_time": "2019-02-28T04:42:21.797262Z"
    }
   },
   "outputs": [
    {
     "data": {
      "text/plain": [
       "{0, 1, 2}"
      ]
     },
     "execution_count": 13,
     "metadata": {},
     "output_type": "execute_result"
    }
   ],
   "source": [
    "set(iris.target)"
   ]
  },
  {
   "cell_type": "code",
   "execution_count": 8,
   "metadata": {
    "ExecuteTime": {
     "end_time": "2019-02-28T18:40:22.882625Z",
     "start_time": "2019-02-28T18:40:22.865793Z"
    }
   },
   "outputs": [
    {
     "data": {
      "text/html": [
       "<div>\n",
       "<style scoped>\n",
       "    .dataframe tbody tr th:only-of-type {\n",
       "        vertical-align: middle;\n",
       "    }\n",
       "\n",
       "    .dataframe tbody tr th {\n",
       "        vertical-align: top;\n",
       "    }\n",
       "\n",
       "    .dataframe thead th {\n",
       "        text-align: right;\n",
       "    }\n",
       "</style>\n",
       "<table border=\"1\" class=\"dataframe\">\n",
       "  <thead>\n",
       "    <tr style=\"text-align: right;\">\n",
       "      <th></th>\n",
       "      <th>sepal length (cm)</th>\n",
       "      <th>sepal width (cm)</th>\n",
       "      <th>petal length (cm)</th>\n",
       "      <th>petal width (cm)</th>\n",
       "      <th>target</th>\n",
       "    </tr>\n",
       "  </thead>\n",
       "  <tbody>\n",
       "    <tr>\n",
       "      <th>0</th>\n",
       "      <td>5.1</td>\n",
       "      <td>3.5</td>\n",
       "      <td>1.4</td>\n",
       "      <td>0.2</td>\n",
       "      <td>0</td>\n",
       "    </tr>\n",
       "    <tr>\n",
       "      <th>30</th>\n",
       "      <td>4.8</td>\n",
       "      <td>3.1</td>\n",
       "      <td>1.6</td>\n",
       "      <td>0.2</td>\n",
       "      <td>0</td>\n",
       "    </tr>\n",
       "    <tr>\n",
       "      <th>60</th>\n",
       "      <td>5.0</td>\n",
       "      <td>2.0</td>\n",
       "      <td>3.5</td>\n",
       "      <td>1.0</td>\n",
       "      <td>1</td>\n",
       "    </tr>\n",
       "    <tr>\n",
       "      <th>90</th>\n",
       "      <td>5.5</td>\n",
       "      <td>2.6</td>\n",
       "      <td>4.4</td>\n",
       "      <td>1.2</td>\n",
       "      <td>1</td>\n",
       "    </tr>\n",
       "    <tr>\n",
       "      <th>120</th>\n",
       "      <td>6.9</td>\n",
       "      <td>3.2</td>\n",
       "      <td>5.7</td>\n",
       "      <td>2.3</td>\n",
       "      <td>2</td>\n",
       "    </tr>\n",
       "  </tbody>\n",
       "</table>\n",
       "</div>"
      ],
      "text/plain": [
       "     sepal length (cm)  sepal width (cm)  petal length (cm)  petal width (cm)  \\\n",
       "0                  5.1               3.5                1.4               0.2   \n",
       "30                 4.8               3.1                1.6               0.2   \n",
       "60                 5.0               2.0                3.5               1.0   \n",
       "90                 5.5               2.6                4.4               1.2   \n",
       "120                6.9               3.2                5.7               2.3   \n",
       "\n",
       "     target  \n",
       "0         0  \n",
       "30        0  \n",
       "60        1  \n",
       "90        1  \n",
       "120       2  "
      ]
     },
     "execution_count": 8,
     "metadata": {},
     "output_type": "execute_result"
    }
   ],
   "source": [
    "# Use Pandas to read the data into a Pandas Dataframe\n",
    "df = pd.DataFrame(iris.data, columns=iris.feature_names)\n",
    "df['target'] = pd.Series(iris.target)\n",
    "# Display every 30th value\n",
    "df[::30]"
   ]
  },
  {
   "cell_type": "markdown",
   "metadata": {},
   "source": [
    "Traditionally the features are stored in a variable called X (capital X) and the target values are stored in a variable called y (lowercase y).\n",
    "\n",
    "This is to reflect the:\n",
    "\n",
    "<font size=\"5\">f(X) = y </font>\n",
    "\n",
    "notation.\n",
    "\n",
    "f(sepal length, sepal width, petal length, petal width) = target"
   ]
  },
  {
   "cell_type": "code",
   "execution_count": 15,
   "metadata": {
    "ExecuteTime": {
     "end_time": "2019-02-28T04:42:21.818036Z",
     "start_time": "2019-02-28T04:42:21.815602Z"
    }
   },
   "outputs": [],
   "source": [
    "# store feature matrix in \"X\"\n",
    "# X is 150 sample rows by 4 feature columns\n",
    "X = iris.data\n",
    "\n",
    "# store response vector in \"y\"\n",
    "# Y is 150 target values\n",
    "y = iris.target"
   ]
  },
  {
   "cell_type": "markdown",
   "metadata": {},
   "source": [
    "### Visualize the data"
   ]
  },
  {
   "cell_type": "code",
   "execution_count": 16,
   "metadata": {
    "ExecuteTime": {
     "end_time": "2019-02-28T04:42:22.770210Z",
     "start_time": "2019-02-28T04:42:21.819605Z"
    }
   },
   "outputs": [
    {
     "data": {
      "image/png": "[encoded data removed]",
      "text/plain": [
       "<Figure size 720x720 with 16 Axes>"
      ]
     },
     "metadata": {},
     "output_type": "display_data"
    }
   ],
   "source": [
    "# c=y, will color the points based on the specifies\n",
    "_=pd.plotting.scatter_matrix(pd.DataFrame(X,columns=iris.feature_names), c=y, figsize=[10,10], s=150, marker='D')"
   ]
  },
  {
   "cell_type": "markdown",
   "metadata": {},
   "source": [
    "### K-Nearest Neighbors (KNN) machine learning classification model\n",
    "\n",
    "K-nearest neighbors, or K-NN, is a simple form of supervised learning. It assigns an output label to a new input example x based on it's closest neighboring datapoints. The number K is the number of data points to use. \n",
    "\n",
    "For K=1, x is assigned the label of the closest neighbor. If K>1, the majority vote is used to label x.\n",
    "\n",
    "The code in this tutorial is slightly modified from the scikit-learn [K-NN example](http://scikit-learn.org/stable/auto_examples/neighbors/plot_classification.html#example-neighbors-plot-classification-py). There is also information on the K-NN classifier function [KNeighborsClassifier](http://scikit-learn.org/stable/modules/generated/sklearn.neighbors.KNeighborsClassifier.html#sklearn.neighbors.KNeighborsClassifier).\n",
    "\n",
    "1. Pick a value for K. 'k' is the number of neighbors to consider\n",
    "2. Search for the K observations in the training data that are \"nearest\" to the measurements of the unknown iris.\n",
    "3. Use the most popular response value from the K nearest neighbors as the predicted response value for the unknown iris."
   ]
  },
  {
   "cell_type": "markdown",
   "metadata": {},
   "source": [
    "### Visualize how KNN works with example training data"
   ]
  },
  {
   "cell_type": "markdown",
   "metadata": {},
   "source": [
    "![Training data](images/04_knn_dataset.png)"
   ]
  },
  {
   "cell_type": "markdown",
   "metadata": {},
   "source": [
    "### KNN classification map (K=1)"
   ]
  },
  {
   "cell_type": "markdown",
   "metadata": {},
   "source": [
    "![1NN classification map](images/04_1nn_map.png)"
   ]
  },
  {
   "cell_type": "markdown",
   "metadata": {},
   "source": [
    "### KNN classification map (K=5)"
   ]
  },
  {
   "cell_type": "markdown",
   "metadata": {},
   "source": [
    "![5NN classification map](images/04_5nn_map.png)"
   ]
  },
  {
   "cell_type": "markdown",
   "metadata": {},
   "source": [
    "### scikit-learn 4-step modeling pattern"
   ]
  },
  {
   "cell_type": "markdown",
   "metadata": {},
   "source": [
    "#### **Step 1:** Import the class you plan to use"
   ]
  },
  {
   "cell_type": "code",
   "execution_count": 17,
   "metadata": {
    "ExecuteTime": {
     "end_time": "2019-02-28T04:42:22.774201Z",
     "start_time": "2019-02-28T04:42:22.771262Z"
    }
   },
   "outputs": [],
   "source": [
    "from sklearn.neighbors import KNeighborsClassifier"
   ]
  },
  {
   "cell_type": "markdown",
   "metadata": {},
   "source": [
    "#### **Step 2:** \"Instantiate\" the \"estimator\"\n",
    "\n",
    "- \"Estimator\" is scikit-learn's term for model\n",
    "- \"Instantiate\" means \"make an instance of\""
   ]
  },
  {
   "cell_type": "code",
   "execution_count": 18,
   "metadata": {
    "ExecuteTime": {
     "end_time": "2019-02-28T04:42:22.783353Z",
     "start_time": "2019-02-28T04:42:22.781040Z"
    }
   },
   "outputs": [],
   "source": [
    "knn = KNeighborsClassifier(n_neighbors=1)"
   ]
  },
  {
   "cell_type": "markdown",
   "metadata": {},
   "source": [
    "- Name (e.g. knn ) of the object does not matter\n",
    "- Can specify tuning parameters (aka \"hyperparameters\") during this step\n",
    "- All parameters not specified are set to their defaults"
   ]
  },
  {
   "cell_type": "code",
   "execution_count": 19,
   "metadata": {
    "ExecuteTime": {
     "end_time": "2019-02-28T04:42:22.791769Z",
     "start_time": "2019-02-28T04:42:22.787735Z"
    }
   },
   "outputs": [
    {
     "name": "stdout",
     "output_type": "stream",
     "text": [
      "KNeighborsClassifier(algorithm='auto', leaf_size=30, metric='minkowski',\n",
      "           metric_params=None, n_jobs=None, n_neighbors=1, p=2,\n",
      "           weights='uniform')\n"
     ]
    }
   ],
   "source": [
    "print(knn)"
   ]
  },
  {
   "cell_type": "markdown",
   "metadata": {},
   "source": [
    "- weights can be uniform or scaled based on the distance.  closer points have more impact.\n",
    " - metric, [DistanceMetric](http://scikit-learn.org/stable/modules/generated/sklearn.neighbors.DistanceMetric.html) can be a number of different distance calculations."
   ]
  },
  {
   "cell_type": "markdown",
   "metadata": {},
   "source": [
    "#### **Step 3:** Fit the model with data (aka \"model training\")\n",
    "\n",
    "- Training a model on the data = 'fitting' a model using the .fit() method\n",
    "- Model is learning the relationship between X and y\n",
    "- Occurs in-place"
   ]
  },
  {
   "cell_type": "code",
   "execution_count": 20,
   "metadata": {
    "ExecuteTime": {
     "end_time": "2019-02-28T04:42:22.799932Z",
     "start_time": "2019-02-28T04:42:22.793542Z"
    }
   },
   "outputs": [
    {
     "data": {
      "text/plain": [
       "KNeighborsClassifier(algorithm='auto', leaf_size=30, metric='minkowski',\n",
       "           metric_params=None, n_jobs=None, n_neighbors=1, p=2,\n",
       "           weights='uniform')"
      ]
     },
     "execution_count": 20,
     "metadata": {},
     "output_type": "execute_result"
    }
   ],
   "source": [
    "knn.fit(X, y)"
   ]
  },
  {
   "cell_type": "markdown",
   "metadata": {},
   "source": [
    "#### **Step 4:** Predict the response for a new observation\n",
    "\n",
    "- New observations are called \"out-of-sample\" data\n",
    "- Uses the information the model learned during the training process"
   ]
  },
  {
   "cell_type": "code",
   "execution_count": 21,
   "metadata": {
    "ExecuteTime": {
     "end_time": "2019-02-28T04:42:22.807125Z",
     "start_time": "2019-02-28T04:42:22.801883Z"
    }
   },
   "outputs": [
    {
     "name": "stdout",
     "output_type": "stream",
     "text": [
      "Predicted Iris type: 2 or virginica\n"
     ]
    }
   ],
   "source": [
    "# syntax might look a little wierd.\n",
    "# a collection of observations\n",
    "# i.e.: an array of arrays\n",
    "predictions = knn.predict([[3, 5, 4, 2]])\n",
    "\n",
    "for prediction in predictions:\n",
    "    print(f\"Predicted Iris type: {prediction} or {iris.target_names[prediction]}\")"
   ]
  },
  {
   "cell_type": "markdown",
   "metadata": {},
   "source": [
    "- Returns a NumPy array\n",
    "- Can predict for multiple observations at once"
   ]
  },
  {
   "cell_type": "code",
   "execution_count": 22,
   "metadata": {
    "ExecuteTime": {
     "end_time": "2019-02-28T04:42:22.812962Z",
     "start_time": "2019-02-28T04:42:22.808713Z"
    }
   },
   "outputs": [
    {
     "name": "stdout",
     "output_type": "stream",
     "text": [
      "Predicted Iris type: 2 or virginica\n",
      "Predicted Iris type: 1 or versicolor\n"
     ]
    }
   ],
   "source": [
    "X_new = [[3, 5, 4, 2], [5, 4, 3, 2]]\n",
    "predictions = knn.predict(X_new)\n",
    "\n",
    "for prediction in predictions:\n",
    "    print(f\"Predicted Iris type: {prediction} or {iris.target_names[prediction]}\")"
   ]
  },
  {
   "cell_type": "markdown",
   "metadata": {},
   "source": [
    "**Using a different value for K**\n",
    "\n",
    "What if we use a different value for 'k' or the number of neighbors to consider.\n",
    "\n",
    "From above, we see that changing the 'k' value, changes the predicted areas.\n",
    "\n"
   ]
  },
  {
   "cell_type": "code",
   "execution_count": 23,
   "metadata": {
    "ExecuteTime": {
     "end_time": "2019-02-28T04:42:22.819502Z",
     "start_time": "2019-02-28T04:42:22.814483Z"
    }
   },
   "outputs": [
    {
     "name": "stdout",
     "output_type": "stream",
     "text": [
      "Predicted Iris type: 1 or versicolor\n",
      "Predicted Iris type: 1 or versicolor\n"
     ]
    }
   ],
   "source": [
    "# instantiate the model (using the value K=5)\n",
    "knn = KNeighborsClassifier(n_neighbors=5)\n",
    "\n",
    "# fit the model with data\n",
    "knn.fit(X, y)\n",
    "\n",
    "# predict the response for new observations\n",
    "predictions = knn.predict(X_new)\n",
    "\n",
    "for prediction in predictions:\n",
    "    print(f\"Predicted Iris type: {prediction} or {iris.target_names[prediction]}\")"
   ]
  },
  {
   "cell_type": "markdown",
   "metadata": {},
   "source": [
    "## Model Performance / Train Test Split"
   ]
  },
  {
   "cell_type": "markdown",
   "metadata": {},
   "source": [
    "In classification accuracy is a common metric used to measure a models performance.\n",
    "\n",
    "Accuracy = fraction of correct predictions. \n",
    "\n",
    "For example:  98 correct predictions / 100 known values\n",
    "\n",
    "The question is what data should be used for training and what data should be used testing.\n",
    "\n",
    "Model performance should only ever be measured on data that the model **did not** train with.  \n"
   ]
  },
  {
   "cell_type": "markdown",
   "metadata": {},
   "source": [
    "### Problems with training and testing on the same data\n",
    "\n",
    "- Goal is to estimate likely performance of a model on **out-of-sample data**\n",
    "- But, maximizing training accuracy rewards **overly complex models** that won't necessarily generalize\n",
    "- Unnecessarily complex models **overfit** the training data\n",
    "\n",
    "Green line shows the results of a model that **overfits** the data.  The model has learned the 'noise' in the data.\n",
    "\n",
    "The black line generalizes the data, and depending upon the desired outcome, may provide a better result."
   ]
  },
  {
   "cell_type": "markdown",
   "metadata": {},
   "source": [
    "![Overfitting](images/05_overfitting.png)"
   ]
  },
  {
   "cell_type": "markdown",
   "metadata": {},
   "source": [
    "\n",
    "This is where the **train, test split** comes in.\n",
    "\n",
    "**Train Test Split**\n",
    "\n",
    "- Split the data into a training dataset and a testing dataset\n",
    "\n",
    "- Fit/Train the model on the training set\n",
    "\n",
    "- Predict on the labeled test set"
   ]
  },
  {
   "cell_type": "markdown",
   "metadata": {},
   "source": [
    "![train test split](images/train_test_split.svg)"
   ]
  },
  {
   "cell_type": "markdown",
   "metadata": {},
   "source": [
    "### Train Test Split Code Example"
   ]
  },
  {
   "cell_type": "code",
   "execution_count": 24,
   "metadata": {
    "ExecuteTime": {
     "end_time": "2019-02-28T04:42:22.825158Z",
     "start_time": "2019-02-28T04:42:22.821164Z"
    }
   },
   "outputs": [],
   "source": [
    "# split X and y into training and testing sets\n",
    "# default test_size is 25%\n",
    "# stratify - distribute the target values in the same \n",
    "#            proportion as in the original dataset\n",
    "from sklearn.model_selection import train_test_split\n",
    "X_train, X_test, y_train, y_test = train_test_split(X, y, test_size=0.4, random_state=4, stratify=y)"
   ]
  },
  {
   "cell_type": "code",
   "execution_count": 25,
   "metadata": {
    "ExecuteTime": {
     "end_time": "2019-02-28T04:42:22.830456Z",
     "start_time": "2019-02-28T04:42:22.826808Z"
    }
   },
   "outputs": [
    {
     "name": "stdout",
     "output_type": "stream",
     "text": [
      "X shape: (150, 4)\n",
      "y shape: (150,)\n",
      "X_train shape: (90, 4)\n",
      "X_test shape: (60, 4)\n",
      "y_train: (90,)\n",
      "y_test: (60,)\n"
     ]
    }
   ],
   "source": [
    "print(f'X shape: {X.shape}')\n",
    "print(f'y shape: {y.shape}')\n",
    "print(f'X_train shape: {X_train.shape}')\n",
    "print(f'X_test shape: {X_test.shape}')\n",
    "print(f'y_train: {y_train.shape}')\n",
    "print(f'y_test: {y_test.shape}')"
   ]
  },
  {
   "cell_type": "code",
   "execution_count": 26,
   "metadata": {
    "ExecuteTime": {
     "end_time": "2019-02-28T04:42:22.846524Z",
     "start_time": "2019-02-28T04:42:22.831983Z"
    }
   },
   "outputs": [
    {
     "name": "stdout",
     "output_type": "stream",
     "text": [
      "Testing accuracy score: 0.9666666666666667\n",
      "Predicted Iris type: (1, 2) or versicolor,virginica\n",
      "Predicted Iris type: (1, 2) or versicolor,virginica\n"
     ]
    }
   ],
   "source": [
    "\n",
    "# fit the model with data\n",
    "knn.fit(X_train, y_train)\n",
    "\n",
    "score = knn.score(X_test, y_test)\n",
    "print(f'Testing accuracy score: {score}')\n",
    "\n",
    "# predict the response for new observations\n",
    "predictions = knn.predict(X_test)\n",
    "for prediction in list(zip(y_test,predictions)):\n",
    "    if prediction[0] != prediction[1]:\n",
    "        print(f\"Predicted Iris type: {prediction} or {iris.target_names[prediction[0]]},{iris.target_names[prediction[1]]}\")"
   ]
  },
  {
   "cell_type": "markdown",
   "metadata": {},
   "source": [
    "Can we locate an even better value for K?"
   ]
  },
  {
   "cell_type": "code",
   "execution_count": 27,
   "metadata": {
    "ExecuteTime": {
     "end_time": "2019-02-28T04:42:22.916230Z",
     "start_time": "2019-02-28T04:42:22.848066Z"
    }
   },
   "outputs": [],
   "source": [
    "# try K=1 through K=25 and record testing accuracy\n",
    "k_range = list(range(1, 26))\n",
    "scores = []\n",
    "for k in k_range:\n",
    "    knn = KNeighborsClassifier(n_neighbors=k)\n",
    "    knn.fit(X_train, y_train)\n",
    "    scores.append(knn.score(X_test, y_test))"
   ]
  },
  {
   "cell_type": "code",
   "execution_count": 28,
   "metadata": {
    "ExecuteTime": {
     "end_time": "2019-02-28T04:42:23.079257Z",
     "start_time": "2019-02-28T04:42:22.917724Z"
    }
   },
   "outputs": [
    {
     "data": {
      "text/plain": [
       "Text(0, 0.5, 'Testing Accuracy')"
      ]
     },
     "execution_count": 28,
     "metadata": {},
     "output_type": "execute_result"
    },
    {
     "data": {
      "image/png": "[encoded data removed]",
      "text/plain": [
       "<Figure size 432x288 with 1 Axes>"
      ]
     },
     "metadata": {},
     "output_type": "display_data"
    }
   ],
   "source": [
    "# plot the relationship between K and testing accuracy\n",
    "plt.plot(k_range, scores)\n",
    "plt.xlabel('Value of K for KNN')\n",
    "plt.ylabel('Testing Accuracy')"
   ]
  },
  {
   "cell_type": "markdown",
   "metadata": {},
   "source": [
    "For a KNN model, higher values of 'k' lead to a more generalized model so you would want to pick the highest value of 'k' with the best testing accuracy."
   ]
  },
  {
   "cell_type": "markdown",
   "metadata": {},
   "source": [
    "#### Decision Tree Example\n",
    "\n",
    "Provide another example of a Scikit-Learn classifier, using a default DecisionTreeClassifier.\n",
    "\n",
    "Notice it has the same 'estimator' interface as KNN model, as do all Scikit-learn models.\n"
   ]
  },
  {
   "cell_type": "code",
   "execution_count": 29,
   "metadata": {
    "ExecuteTime": {
     "end_time": "2019-02-28T04:42:23.089471Z",
     "start_time": "2019-02-28T04:42:23.081723Z"
    }
   },
   "outputs": [],
   "source": [
    "from sklearn.tree import DecisionTreeClassifier"
   ]
  },
  {
   "cell_type": "code",
   "execution_count": 30,
   "metadata": {
    "ExecuteTime": {
     "end_time": "2019-02-28T04:42:23.094414Z",
     "start_time": "2019-02-28T04:42:23.091583Z"
    }
   },
   "outputs": [],
   "source": [
    "tree = DecisionTreeClassifier()"
   ]
  },
  {
   "cell_type": "code",
   "execution_count": 31,
   "metadata": {
    "ExecuteTime": {
     "end_time": "2019-02-28T04:42:23.102412Z",
     "start_time": "2019-02-28T04:42:23.096543Z"
    }
   },
   "outputs": [
    {
     "data": {
      "text/plain": [
       "DecisionTreeClassifier(class_weight=None, criterion='gini', max_depth=None,\n",
       "            max_features=None, max_leaf_nodes=None,\n",
       "            min_impurity_decrease=0.0, min_impurity_split=None,\n",
       "            min_samples_leaf=1, min_samples_split=2,\n",
       "            min_weight_fraction_leaf=0.0, presort=False, random_state=None,\n",
       "            splitter='best')"
      ]
     },
     "execution_count": 31,
     "metadata": {},
     "output_type": "execute_result"
    }
   ],
   "source": [
    "tree.fit(X_train, y_train)"
   ]
  },
  {
   "cell_type": "code",
   "execution_count": 32,
   "metadata": {
    "ExecuteTime": {
     "end_time": "2019-02-28T04:42:23.109545Z",
     "start_time": "2019-02-28T04:42:23.104452Z"
    }
   },
   "outputs": [
    {
     "data": {
      "text/plain": [
       "0.9666666666666667"
      ]
     },
     "execution_count": 32,
     "metadata": {},
     "output_type": "execute_result"
    }
   ],
   "source": [
    "tree.score(X_test, y_test)"
   ]
  },
  {
   "cell_type": "markdown",
   "metadata": {},
   "source": [
    "## Linear Regression Models"
   ]
  },
  {
   "cell_type": "markdown",
   "metadata": {},
   "source": [
    "\n",
    "Linear models make a prediction based on a linear equation. The 'best' linear equation is determined from the input features, by minimizing the *mean squared error* also called the *Loss Function*.\n",
    "\n",
    "Linear Regression Loss Function = mean squared error\n",
    "\n",
    "The general form a linear equation is:\n",
    "\n",
    "<font size=\"4\">y = mx + b</font>\n",
    "\n",
    "Where:\n",
    "- m is the slope\n",
    "- b is the y-intercept\n",
    "\n",
    "The general form of a linear equation used for predictions with multiple features is:\n",
    "\n",
    "**<font size=\"3\">General form of linear regression</font>**\n",
    "\n",
    "$y = \\beta_0 + \\beta_1x_1 + \\beta_2x_2 + ... + \\beta_nx_n$\n",
    "\n",
    "- $y$ is the response\n",
    "- $\\beta_0$ is the intercept\n",
    "- $\\beta_1$ is the coefficient for $x_1$ (the first feature)\n",
    "- $\\beta_n$ is the coefficient for $x_n$ (the nth feature)\n",
    "\n",
    "In this case:\n",
    "\n",
    "$y = \\beta_0 + \\beta_1 \\times TV Sales + \\beta_2 \\times Radio Sales + \\beta_3 \\times Newspaper Sales$\n",
    "\n",
    "The $\\beta$ values are called the **model coefficients**. These values are \"learned\" during the model fitting step using the \"least squares\" criterion. Then, the fitted model can be used to make predictions!\n",
    "\n",
    "\n",
    "In the standard LinearRegression model, the coefficients are determined such that the **mean squared error** is minimized between the predictions and the known true target values. \n",
    "\n",
    "Linear Regression models can be used for both supervised:\n",
    "- **Classification:** Predict a categorical response\n",
    "- **Regression:** Predict a continuous response\n",
    "\n",
    "\n",
    "\n",
    "This notebook will look at the following Linear Regression Models from scikit-learn.\n",
    "\n",
    "- LinearRegression\n",
    "- Ridge\n",
    "- Lasso\n",
    "\n",
    "This notebook will **not** describe *PolynomialFeatures* preprocessing class to provide a high order non-linear equation.  If the data is not linear, you can use *PolynomialFeatures* to create a non-linear higher order equation to fit the data."
   ]
  },
  {
   "cell_type": "markdown",
   "metadata": {},
   "source": [
    "### Simple Linear Regression"
   ]
  },
  {
   "cell_type": "markdown",
   "metadata": {},
   "source": [
    "Create a scatter plot of the simple linear equation:\n",
    "\n",
    "<font size=\"5\">y = 2x - 5<font>"
   ]
  },
  {
   "cell_type": "code",
   "execution_count": 33,
   "metadata": {
    "ExecuteTime": {
     "end_time": "2019-02-28T04:42:23.115351Z",
     "start_time": "2019-02-28T04:42:23.111834Z"
    }
   },
   "outputs": [],
   "source": [
    "rng = np.random.RandomState(1)\n",
    "x = 10*rng.rand(50)  # generate 50 random numbers between 0 and 10  rng.rand produces numbers 0 to 1\n",
    "\n",
    "# randn: “normal” (Gaussian) distribution of mean 0 and variance 1 \n",
    "y = 2*x - 5 + rng.randn(50) # create y with a slope of 2, intercept -5, 50 times with some noise"
   ]
  },
  {
   "cell_type": "code",
   "execution_count": 34,
   "metadata": {
    "ExecuteTime": {
     "end_time": "2019-02-28T04:42:23.276097Z",
     "start_time": "2019-02-28T04:42:23.117458Z"
    }
   },
   "outputs": [
    {
     "data": {
      "text/plain": [
       "<matplotlib.collections.PathCollection at 0x12f35e940>"
      ]
     },
     "execution_count": 34,
     "metadata": {},
     "output_type": "execute_result"
    },
    {
     "data": {
      "image/png": "[encoded data removed]",
      "text/plain": [
       "<Figure size 432x288 with 1 Axes>"
      ]
     },
     "metadata": {},
     "output_type": "display_data"
    }
   ],
   "source": [
    "plt.scatter(x,y)"
   ]
  },
  {
   "cell_type": "markdown",
   "metadata": {},
   "source": [
    "Use the Scikit-Learn *LinearRegression* estimator to construct a best fit line making 1000 predictions from an input value for *x*.\n",
    "\n",
    "Create a standard LinearRegression model"
   ]
  },
  {
   "cell_type": "code",
   "execution_count": 35,
   "metadata": {
    "ExecuteTime": {
     "end_time": "2019-02-28T04:42:23.301780Z",
     "start_time": "2019-02-28T04:42:23.277733Z"
    }
   },
   "outputs": [
    {
     "data": {
      "text/plain": [
       "LinearRegression(copy_X=True, fit_intercept=True, n_jobs=None,\n",
       "         normalize=False)"
      ]
     },
     "execution_count": 35,
     "metadata": {},
     "output_type": "execute_result"
    }
   ],
   "source": [
    "from sklearn.linear_model import LinearRegression\n",
    "\n",
    "linear_regression_model = LinearRegression(fit_intercept=True)\n",
    "\n",
    "# x[:, np.newaxis] this says to create a Series with all of the rows and a new column (series)\n",
    "linear_regression_model.fit(x[:, np.newaxis],y)"
   ]
  },
  {
   "cell_type": "markdown",
   "metadata": {},
   "source": [
    "Create 1000 new x values to use to predict a y value."
   ]
  },
  {
   "cell_type": "code",
   "execution_count": 36,
   "metadata": {
    "ExecuteTime": {
     "end_time": "2019-02-28T04:42:23.305965Z",
     "start_time": "2019-02-28T04:42:23.303504Z"
    }
   },
   "outputs": [],
   "source": [
    "# create 1000 datapoints from 0 to 10 as an array\n",
    "x_input_values = np.linspace(0,10,1000) \n",
    "\n",
    "# x_input_series is now a series, same as x_input_values.reshape(-1,1)\n",
    "x_input_series = x_input_values[:, np.newaxis] "
   ]
  },
  {
   "cell_type": "markdown",
   "metadata": {},
   "source": [
    "For the 1000 new x values, predict the set of y values"
   ]
  },
  {
   "cell_type": "code",
   "execution_count": 37,
   "metadata": {
    "ExecuteTime": {
     "end_time": "2019-02-28T04:42:23.311177Z",
     "start_time": "2019-02-28T04:42:23.308201Z"
    }
   },
   "outputs": [],
   "source": [
    "y_predicted = linear_regression_model.predict(x_input_series)"
   ]
  },
  {
   "cell_type": "code",
   "execution_count": 38,
   "metadata": {
    "ExecuteTime": {
     "end_time": "2019-02-28T04:42:23.489840Z",
     "start_time": "2019-02-28T04:42:23.313190Z"
    }
   },
   "outputs": [
    {
     "data": {
      "text/plain": [
       "[<matplotlib.lines.Line2D at 0x12e842390>]"
      ]
     },
     "execution_count": 38,
     "metadata": {},
     "output_type": "execute_result"
    },
    {
     "data": {
      "image/png": "[encoded data removed]",
      "text/plain": [
       "<Figure size 432x288 with 1 Axes>"
      ]
     },
     "metadata": {},
     "output_type": "display_data"
    }
   ],
   "source": [
    "plt.scatter(x,y)\n",
    "# plot a line of all of the predicted 'y' values from the 1000 'x' values provided to the model\n",
    "plt.plot(x_input_series, y_predicted, c='c')"
   ]
  },
  {
   "cell_type": "code",
   "execution_count": 39,
   "metadata": {
    "ExecuteTime": {
     "end_time": "2019-02-28T04:42:23.495414Z",
     "start_time": "2019-02-28T04:42:23.491936Z"
    }
   },
   "outputs": [
    {
     "name": "stdout",
     "output_type": "stream",
     "text": [
      "Model slope: 2.0272088103606953\n",
      "Model intercept: -4.998577085553204\n",
      "y = 2x - 5\n"
     ]
    }
   ],
   "source": [
    "print(f\"Model slope: {linear_regression_model.coef_[0]}\")\n",
    "print(f\"Model intercept: {linear_regression_model.intercept_}\")\n",
    "print(\"y = 2x - 5\")"
   ]
  },
  {
   "cell_type": "markdown",
   "metadata": {},
   "source": [
    "### Linear Regression with Boston Housing Data\n",
    "\n",
    "Housing Values in Suburbs of Boston"
   ]
  },
  {
   "cell_type": "markdown",
   "metadata": {},
   "source": [
    "![BostonHouses](images/qusai-akoud-87165-unsplash.jpg)\n",
    "\n",
    "Photo by Qusai Akoud on Unsplash\n"
   ]
  },
  {
   "cell_type": "code",
   "execution_count": 40,
   "metadata": {
    "ExecuteTime": {
     "end_time": "2019-02-28T04:42:23.512588Z",
     "start_time": "2019-02-28T04:42:23.497711Z"
    }
   },
   "outputs": [],
   "source": [
    "boston_data = datasets.load_boston()"
   ]
  },
  {
   "cell_type": "code",
   "execution_count": 41,
   "metadata": {
    "ExecuteTime": {
     "end_time": "2019-02-28T04:42:23.516309Z",
     "start_time": "2019-02-28T04:42:23.514052Z"
    }
   },
   "outputs": [
    {
     "name": "stdout",
     "output_type": "stream",
     "text": [
      ".. _boston_dataset:\n",
      "\n",
      "Boston house prices dataset\n",
      "---------------------------\n",
      "\n",
      "**Data Set Characteristics:**  \n",
      "\n",
      "    :Number of Instances: 506 \n",
      "\n",
      "    :Number of Attributes: 13 numeric/categorical predictive. Median Value (attribute 14) is usually the target.\n",
      "\n",
      "    :Attribute Information (in order):\n",
      "        - CRIM     per capita crime rate by town\n",
      "        - ZN       proportion of residential land zoned for lots over 25,000 sq.ft.\n",
      "        - INDUS    proportion of non-retail business acres per town\n",
      "        - CHAS     Charles River dummy variable (= 1 if tract bounds river; 0 otherwise)\n",
      "        - NOX      nitric oxides concentration (parts per 10 million)\n",
      "        - RM       average number of rooms per dwelling\n",
      "        - AGE      proportion of owner-occupied units built prior to 1940\n",
      "        - DIS      weighted distances to five Boston employment centres\n",
      "        - RAD      index of accessibility to radial highways\n",
      "        - TAX      full-value property-tax rate per $10,000\n",
      "        - PTRATIO  pupil-teacher ratio by town\n",
      "        - B        1000(Bk - 0.63)^2 where Bk is the proportion of blacks by town\n",
      "        - LSTAT    % lower status of the population\n",
      "        - MEDV     Median value of owner-occupied homes in $1000's\n",
      "\n",
      "    :Missing Attribute Values: None\n",
      "\n",
      "    :Creator: Harrison, D. and Rubinfeld, D.L.\n",
      "\n",
      "This is a copy of UCI ML housing dataset.\n",
      "https://archive.ics.uci.edu/ml/machine-learning-databases/housing/\n",
      "\n",
      "\n",
      "This dataset was taken from the StatLib library which is maintained at Carnegie Mellon University.\n",
      "\n",
      "The Boston house-price data of Harrison, D. and Rubinfeld, D.L. 'Hedonic\n",
      "prices and the demand for clean air', J. Environ. Economics & Management,\n",
      "vol.5, 81-102, 1978.   Used in Belsley, Kuh & Welsch, 'Regression diagnostics\n",
      "...', Wiley, 1980.   N.B. Various transformations are used in the table on\n",
      "pages 244-261 of the latter.\n",
      "\n",
      "The Boston house-price data has been used in many machine learning papers that address regression\n",
      "problems.   \n",
      "     \n",
      ".. topic:: References\n",
      "\n",
      "   - Belsley, Kuh & Welsch, 'Regression diagnostics: Identifying Influential Data and Sources of Collinearity', Wiley, 1980. 244-261.\n",
      "   - Quinlan,R. (1993). Combining Instance-Based and Model-Based Learning. In Proceedings on the Tenth International Conference of Machine Learning, 236-243, University of Massachusetts, Amherst. Morgan Kaufmann.\n",
      "\n"
     ]
    }
   ],
   "source": [
    "print(boston_data.DESCR)"
   ]
  },
  {
   "cell_type": "code",
   "execution_count": 42,
   "metadata": {
    "ExecuteTime": {
     "end_time": "2019-02-28T04:42:23.534236Z",
     "start_time": "2019-02-28T04:42:23.517822Z"
    }
   },
   "outputs": [
    {
     "data": {
      "text/html": [
       "<div>\n",
       "<style scoped>\n",
       "    .dataframe tbody tr th:only-of-type {\n",
       "        vertical-align: middle;\n",
       "    }\n",
       "\n",
       "    .dataframe tbody tr th {\n",
       "        vertical-align: top;\n",
       "    }\n",
       "\n",
       "    .dataframe thead th {\n",
       "        text-align: right;\n",
       "    }\n",
       "</style>\n",
       "<table border=\"1\" class=\"dataframe\">\n",
       "  <thead>\n",
       "    <tr style=\"text-align: right;\">\n",
       "      <th></th>\n",
       "      <th>CRIM</th>\n",
       "      <th>ZN</th>\n",
       "      <th>INDUS</th>\n",
       "      <th>CHAS</th>\n",
       "      <th>NOX</th>\n",
       "      <th>RM</th>\n",
       "      <th>AGE</th>\n",
       "      <th>DIS</th>\n",
       "      <th>RAD</th>\n",
       "      <th>TAX</th>\n",
       "      <th>PTRATIO</th>\n",
       "      <th>B</th>\n",
       "      <th>LSTAT</th>\n",
       "      <th>MEDV</th>\n",
       "    </tr>\n",
       "  </thead>\n",
       "  <tbody>\n",
       "    <tr>\n",
       "      <th>0</th>\n",
       "      <td>0.00632</td>\n",
       "      <td>18.0</td>\n",
       "      <td>2.31</td>\n",
       "      <td>0.0</td>\n",
       "      <td>0.538</td>\n",
       "      <td>6.575</td>\n",
       "      <td>65.2</td>\n",
       "      <td>4.0900</td>\n",
       "      <td>1.0</td>\n",
       "      <td>296.0</td>\n",
       "      <td>15.3</td>\n",
       "      <td>396.90</td>\n",
       "      <td>4.98</td>\n",
       "      <td>24.0</td>\n",
       "    </tr>\n",
       "    <tr>\n",
       "      <th>1</th>\n",
       "      <td>0.02731</td>\n",
       "      <td>0.0</td>\n",
       "      <td>7.07</td>\n",
       "      <td>0.0</td>\n",
       "      <td>0.469</td>\n",
       "      <td>6.421</td>\n",
       "      <td>78.9</td>\n",
       "      <td>4.9671</td>\n",
       "      <td>2.0</td>\n",
       "      <td>242.0</td>\n",
       "      <td>17.8</td>\n",
       "      <td>396.90</td>\n",
       "      <td>9.14</td>\n",
       "      <td>21.6</td>\n",
       "    </tr>\n",
       "    <tr>\n",
       "      <th>2</th>\n",
       "      <td>0.02729</td>\n",
       "      <td>0.0</td>\n",
       "      <td>7.07</td>\n",
       "      <td>0.0</td>\n",
       "      <td>0.469</td>\n",
       "      <td>7.185</td>\n",
       "      <td>61.1</td>\n",
       "      <td>4.9671</td>\n",
       "      <td>2.0</td>\n",
       "      <td>242.0</td>\n",
       "      <td>17.8</td>\n",
       "      <td>392.83</td>\n",
       "      <td>4.03</td>\n",
       "      <td>34.7</td>\n",
       "    </tr>\n",
       "    <tr>\n",
       "      <th>3</th>\n",
       "      <td>0.03237</td>\n",
       "      <td>0.0</td>\n",
       "      <td>2.18</td>\n",
       "      <td>0.0</td>\n",
       "      <td>0.458</td>\n",
       "      <td>6.998</td>\n",
       "      <td>45.8</td>\n",
       "      <td>6.0622</td>\n",
       "      <td>3.0</td>\n",
       "      <td>222.0</td>\n",
       "      <td>18.7</td>\n",
       "      <td>394.63</td>\n",
       "      <td>2.94</td>\n",
       "      <td>33.4</td>\n",
       "    </tr>\n",
       "    <tr>\n",
       "      <th>4</th>\n",
       "      <td>0.06905</td>\n",
       "      <td>0.0</td>\n",
       "      <td>2.18</td>\n",
       "      <td>0.0</td>\n",
       "      <td>0.458</td>\n",
       "      <td>7.147</td>\n",
       "      <td>54.2</td>\n",
       "      <td>6.0622</td>\n",
       "      <td>3.0</td>\n",
       "      <td>222.0</td>\n",
       "      <td>18.7</td>\n",
       "      <td>396.90</td>\n",
       "      <td>5.33</td>\n",
       "      <td>36.2</td>\n",
       "    </tr>\n",
       "  </tbody>\n",
       "</table>\n",
       "</div>"
      ],
      "text/plain": [
       "      CRIM    ZN  INDUS  CHAS    NOX     RM   AGE     DIS  RAD    TAX  \\\n",
       "0  0.00632  18.0   2.31   0.0  0.538  6.575  65.2  4.0900  1.0  296.0   \n",
       "1  0.02731   0.0   7.07   0.0  0.469  6.421  78.9  4.9671  2.0  242.0   \n",
       "2  0.02729   0.0   7.07   0.0  0.469  7.185  61.1  4.9671  2.0  242.0   \n",
       "3  0.03237   0.0   2.18   0.0  0.458  6.998  45.8  6.0622  3.0  222.0   \n",
       "4  0.06905   0.0   2.18   0.0  0.458  7.147  54.2  6.0622  3.0  222.0   \n",
       "\n",
       "   PTRATIO       B  LSTAT  MEDV  \n",
       "0     15.3  396.90   4.98  24.0  \n",
       "1     17.8  396.90   9.14  21.6  \n",
       "2     17.8  392.83   4.03  34.7  \n",
       "3     18.7  394.63   2.94  33.4  \n",
       "4     18.7  396.90   5.33  36.2  "
      ]
     },
     "execution_count": 42,
     "metadata": {},
     "output_type": "execute_result"
    }
   ],
   "source": [
    "boston_data_df = pd.DataFrame(boston_data.data, columns=boston_data.feature_names)\n",
    "boston_data_df['MEDV'] = boston_data.target\n",
    "boston_data_df.head()"
   ]
  },
  {
   "cell_type": "code",
   "execution_count": 43,
   "metadata": {
    "ExecuteTime": {
     "end_time": "2019-02-28T04:42:23.540501Z",
     "start_time": "2019-02-28T04:42:23.536465Z"
    }
   },
   "outputs": [
    {
     "data": {
      "text/plain": [
       "(506, 14)"
      ]
     },
     "execution_count": 43,
     "metadata": {},
     "output_type": "execute_result"
    }
   ],
   "source": [
    "boston_data_df.shape"
   ]
  },
  {
   "cell_type": "markdown",
   "metadata": {},
   "source": [
    "Target value is MEDV, median house value in 1000s of dollars\n"
   ]
  },
  {
   "cell_type": "code",
   "execution_count": 44,
   "metadata": {
    "ExecuteTime": {
     "end_time": "2019-02-28T04:42:23.547430Z",
     "start_time": "2019-02-28T04:42:23.543003Z"
    }
   },
   "outputs": [],
   "source": [
    "X = boston_data_df.drop(columns=['MEDV'])\n",
    "y = boston_data_df['MEDV']"
   ]
  },
  {
   "cell_type": "code",
   "execution_count": 45,
   "metadata": {
    "ExecuteTime": {
     "end_time": "2019-02-28T04:42:23.554004Z",
     "start_time": "2019-02-28T04:42:23.549408Z"
    }
   },
   "outputs": [
    {
     "data": {
      "text/plain": [
       "(506, 13)"
      ]
     },
     "execution_count": 45,
     "metadata": {},
     "output_type": "execute_result"
    }
   ],
   "source": [
    "X.shape"
   ]
  },
  {
   "cell_type": "code",
   "execution_count": 46,
   "metadata": {
    "ExecuteTime": {
     "end_time": "2019-02-28T04:42:23.559460Z",
     "start_time": "2019-02-28T04:42:23.555624Z"
    }
   },
   "outputs": [
    {
     "data": {
      "text/plain": [
       "(506,)"
      ]
     },
     "execution_count": 46,
     "metadata": {},
     "output_type": "execute_result"
    }
   ],
   "source": [
    "y.shape"
   ]
  },
  {
   "cell_type": "markdown",
   "metadata": {},
   "source": [
    "Use train_test_split to divide the data between a Training and a Testing dataset"
   ]
  },
  {
   "cell_type": "code",
   "execution_count": 47,
   "metadata": {
    "ExecuteTime": {
     "end_time": "2019-02-28T04:42:23.564627Z",
     "start_time": "2019-02-28T04:42:23.560767Z"
    }
   },
   "outputs": [],
   "source": [
    "X_train, X_test, y_train, y_test = train_test_split(X, y, test_size=0.3, random_state=42)"
   ]
  },
  {
   "cell_type": "code",
   "execution_count": 48,
   "metadata": {
    "ExecuteTime": {
     "end_time": "2019-02-28T04:42:23.569356Z",
     "start_time": "2019-02-28T04:42:23.565967Z"
    }
   },
   "outputs": [
    {
     "name": "stdout",
     "output_type": "stream",
     "text": [
      "(354, 13)\n",
      "(152, 13)\n",
      "(354,)\n",
      "(152,)\n"
     ]
    }
   ],
   "source": [
    "print(X_train.shape)\n",
    "print(X_test.shape)\n",
    "print(y_train.shape)\n",
    "print(y_test.shape)"
   ]
  },
  {
   "cell_type": "markdown",
   "metadata": {},
   "source": [
    "Recall the 4 Steps:\n",
    "\n",
    "- <font size=\"3\">import</font>\n",
    "\n",
    "- <font size=\"3\">instantiate</font>\n",
    "\n",
    "- <font size=\"3\">fit</font>\n",
    "\n",
    "- <font size=\"3\">predict or score</font>"
   ]
  },
  {
   "cell_type": "markdown",
   "metadata": {},
   "source": [
    "<font size=\"4\" color=\"Orange\">Import</font>"
   ]
  },
  {
   "cell_type": "code",
   "execution_count": 49,
   "metadata": {
    "ExecuteTime": {
     "end_time": "2019-02-28T04:42:23.572987Z",
     "start_time": "2019-02-28T04:42:23.570942Z"
    }
   },
   "outputs": [],
   "source": [
    "# we have already done this above and this is strictly required\n",
    "# but for completeness, the import is included\n",
    "from sklearn.linear_model import LinearRegression"
   ]
  },
  {
   "cell_type": "markdown",
   "metadata": {},
   "source": [
    "<font size=\"4\" color=\"orange\">Instantiate</font>"
   ]
  },
  {
   "cell_type": "code",
   "execution_count": 50,
   "metadata": {
    "ExecuteTime": {
     "end_time": "2019-02-28T04:42:23.576304Z",
     "start_time": "2019-02-28T04:42:23.574160Z"
    }
   },
   "outputs": [],
   "source": [
    "linear_regression_model = LinearRegression()"
   ]
  },
  {
   "cell_type": "markdown",
   "metadata": {},
   "source": [
    "<font size=\"4\" color=\"orange\">Fit</font>"
   ]
  },
  {
   "cell_type": "code",
   "execution_count": 51,
   "metadata": {
    "ExecuteTime": {
     "end_time": "2019-02-28T04:42:23.582759Z",
     "start_time": "2019-02-28T04:42:23.577669Z"
    }
   },
   "outputs": [
    {
     "data": {
      "text/plain": [
       "LinearRegression(copy_X=True, fit_intercept=True, n_jobs=None,\n",
       "         normalize=False)"
      ]
     },
     "execution_count": 51,
     "metadata": {},
     "output_type": "execute_result"
    }
   ],
   "source": [
    "linear_regression_model.fit(X_train, y_train)"
   ]
  },
  {
   "cell_type": "markdown",
   "metadata": {},
   "source": [
    "The score method of a LinearRegression model is the coefficient of determination R^2 of the prediction.  A value closer to 1.0 is a better model."
   ]
  },
  {
   "cell_type": "markdown",
   "metadata": {},
   "source": [
    "<font size=\"4\" color=\"orange\">Predict or Score</font>"
   ]
  },
  {
   "cell_type": "code",
   "execution_count": 52,
   "metadata": {
    "ExecuteTime": {
     "end_time": "2019-02-28T04:42:23.588395Z",
     "start_time": "2019-02-28T04:42:23.584304Z"
    }
   },
   "outputs": [
    {
     "name": "stdout",
     "output_type": "stream",
     "text": [
      "0.7112260057484874\n"
     ]
    }
   ],
   "source": [
    "r_squared = linear_regression_model.score(X_test, y_test)\n",
    "print(r_squared)"
   ]
  },
  {
   "cell_type": "markdown",
   "metadata": {},
   "source": [
    "Review coeficients and intercept"
   ]
  },
  {
   "cell_type": "code",
   "execution_count": 53,
   "metadata": {
    "ExecuteTime": {
     "end_time": "2019-02-28T04:42:23.593142Z",
     "start_time": "2019-02-28T04:42:23.589920Z"
    }
   },
   "outputs": [
    {
     "data": {
      "text/plain": [
       "array([-1.33470103e-01,  3.58089136e-02,  4.95226452e-02,  3.11983512e+00,\n",
       "       -1.54170609e+01,  4.05719923e+00, -1.08208352e-02, -1.38599824e+00,\n",
       "        2.42727340e-01, -8.70223437e-03, -9.10685208e-01,  1.17941159e-02,\n",
       "       -5.47113313e-01])"
      ]
     },
     "execution_count": 53,
     "metadata": {},
     "output_type": "execute_result"
    }
   ],
   "source": [
    "linear_regression_model.coef_"
   ]
  },
  {
   "cell_type": "code",
   "execution_count": 54,
   "metadata": {
    "ExecuteTime": {
     "end_time": "2019-02-28T04:42:23.598286Z",
     "start_time": "2019-02-28T04:42:23.594732Z"
    }
   },
   "outputs": [
    {
     "data": {
      "text/plain": [
       "31.631084035691632"
      ]
     },
     "execution_count": 54,
     "metadata": {},
     "output_type": "execute_result"
    }
   ],
   "source": [
    "linear_regression_model.intercept_"
   ]
  },
  {
   "cell_type": "code",
   "execution_count": 55,
   "metadata": {
    "ExecuteTime": {
     "end_time": "2019-02-28T04:42:23.608855Z",
     "start_time": "2019-02-28T04:42:23.599615Z"
    }
   },
   "outputs": [
    {
     "data": {
      "text/html": [
       "<div>\n",
       "<style scoped>\n",
       "    .dataframe tbody tr th:only-of-type {\n",
       "        vertical-align: middle;\n",
       "    }\n",
       "\n",
       "    .dataframe tbody tr th {\n",
       "        vertical-align: top;\n",
       "    }\n",
       "\n",
       "    .dataframe thead th {\n",
       "        text-align: right;\n",
       "    }\n",
       "</style>\n",
       "<table border=\"1\" class=\"dataframe\">\n",
       "  <thead>\n",
       "    <tr style=\"text-align: right;\">\n",
       "      <th></th>\n",
       "      <th>0</th>\n",
       "      <th>1</th>\n",
       "    </tr>\n",
       "  </thead>\n",
       "  <tbody>\n",
       "    <tr>\n",
       "      <th>0</th>\n",
       "      <td>CRIM</td>\n",
       "      <td>-0.133470</td>\n",
       "    </tr>\n",
       "    <tr>\n",
       "      <th>1</th>\n",
       "      <td>ZN</td>\n",
       "      <td>0.035809</td>\n",
       "    </tr>\n",
       "    <tr>\n",
       "      <th>2</th>\n",
       "      <td>INDUS</td>\n",
       "      <td>0.049523</td>\n",
       "    </tr>\n",
       "    <tr>\n",
       "      <th>3</th>\n",
       "      <td>CHAS</td>\n",
       "      <td>3.119835</td>\n",
       "    </tr>\n",
       "    <tr>\n",
       "      <th>4</th>\n",
       "      <td>NOX</td>\n",
       "      <td>-15.417061</td>\n",
       "    </tr>\n",
       "    <tr>\n",
       "      <th>5</th>\n",
       "      <td>RM</td>\n",
       "      <td>4.057199</td>\n",
       "    </tr>\n",
       "    <tr>\n",
       "      <th>6</th>\n",
       "      <td>AGE</td>\n",
       "      <td>-0.010821</td>\n",
       "    </tr>\n",
       "    <tr>\n",
       "      <th>7</th>\n",
       "      <td>DIS</td>\n",
       "      <td>-1.385998</td>\n",
       "    </tr>\n",
       "    <tr>\n",
       "      <th>8</th>\n",
       "      <td>RAD</td>\n",
       "      <td>0.242727</td>\n",
       "    </tr>\n",
       "    <tr>\n",
       "      <th>9</th>\n",
       "      <td>TAX</td>\n",
       "      <td>-0.008702</td>\n",
       "    </tr>\n",
       "    <tr>\n",
       "      <th>10</th>\n",
       "      <td>PTRATIO</td>\n",
       "      <td>-0.910685</td>\n",
       "    </tr>\n",
       "    <tr>\n",
       "      <th>11</th>\n",
       "      <td>B</td>\n",
       "      <td>0.011794</td>\n",
       "    </tr>\n",
       "    <tr>\n",
       "      <th>12</th>\n",
       "      <td>LSTAT</td>\n",
       "      <td>-0.547113</td>\n",
       "    </tr>\n",
       "  </tbody>\n",
       "</table>\n",
       "</div>"
      ],
      "text/plain": [
       "          0          1\n",
       "0      CRIM  -0.133470\n",
       "1        ZN   0.035809\n",
       "2     INDUS   0.049523\n",
       "3      CHAS   3.119835\n",
       "4       NOX -15.417061\n",
       "5        RM   4.057199\n",
       "6       AGE  -0.010821\n",
       "7       DIS  -1.385998\n",
       "8       RAD   0.242727\n",
       "9       TAX  -0.008702\n",
       "10  PTRATIO  -0.910685\n",
       "11        B   0.011794\n",
       "12    LSTAT  -0.547113"
      ]
     },
     "execution_count": 55,
     "metadata": {},
     "output_type": "execute_result"
    }
   ],
   "source": [
    "coef_df = pd.DataFrame(list(zip(X.columns,  linear_regression_model.coef_)))\n",
    "coef_df.head(13)"
   ]
  },
  {
   "cell_type": "markdown",
   "metadata": {},
   "source": [
    "Use the X_test data for predictions"
   ]
  },
  {
   "cell_type": "code",
   "execution_count": 56,
   "metadata": {
    "ExecuteTime": {
     "end_time": "2019-02-28T04:42:23.613574Z",
     "start_time": "2019-02-28T04:42:23.610202Z"
    }
   },
   "outputs": [],
   "source": [
    "y_pred = linear_regression_model.predict(X_test)"
   ]
  },
  {
   "cell_type": "code",
   "execution_count": 57,
   "metadata": {
    "ExecuteTime": {
     "end_time": "2019-02-28T04:42:23.973128Z",
     "start_time": "2019-02-28T04:42:23.615332Z"
    }
   },
   "outputs": [
    {
     "data": {
      "text/plain": [
       "Text(0.5, 1.0, 'Prices vs Predicted prices: $y_i$ vs $\\\\hat{y}_i$')"
      ]
     },
     "execution_count": 57,
     "metadata": {},
     "output_type": "execute_result"
    },
    {
     "data": {
      "image/png": "[encoded data removed]",
      "text/plain": [
       "<Figure size 720x432 with 1 Axes>"
      ]
     },
     "metadata": {},
     "output_type": "display_data"
    }
   ],
   "source": [
    "plt.figure(figsize=(10,6))\n",
    "plt.scatter(y_test, y_pred)\n",
    "plt.xlabel(\"Actual Prices: $y_i$\")\n",
    "plt.ylabel(\"Predicted prices: $\\hat{y}_i$\")\n",
    "plt.title(\"Prices vs Predicted prices: $y_i$ vs $\\hat{y}_i$\")"
   ]
  },
  {
   "cell_type": "markdown",
   "metadata": {},
   "source": [
    "Calculate the Mean Squared Error"
   ]
  },
  {
   "cell_type": "code",
   "execution_count": 58,
   "metadata": {
    "ExecuteTime": {
     "end_time": "2019-02-28T04:42:23.977945Z",
     "start_time": "2019-02-28T04:42:23.975248Z"
    }
   },
   "outputs": [],
   "source": [
    "from sklearn.metrics import mean_squared_error"
   ]
  },
  {
   "cell_type": "code",
   "execution_count": 59,
   "metadata": {
    "ExecuteTime": {
     "end_time": "2019-02-28T04:42:23.983609Z",
     "start_time": "2019-02-28T04:42:23.979778Z"
    }
   },
   "outputs": [
    {
     "name": "stdout",
     "output_type": "stream",
     "text": [
      "21.517444231177638\n"
     ]
    }
   ],
   "source": [
    "mse = mean_squared_error(y_test,  y_pred)\n",
    "print(mse)"
   ]
  },
  {
   "cell_type": "markdown",
   "metadata": {},
   "source": [
    "The mean squared error is **21.5k**.  Whether that is good enough or not, is dependent upon the business use case.\n",
    "\n",
    "**<font size=\"3\">Manually Calculate a preduction</font>**\n",
    "\n",
    "In general we are solving the equation:\n",
    "\n",
    "$y = \\beta_0 + \\beta_1 \\times CRIM + \\beta_2 \\times ZN + \\beta_3 \\times INDUS + ... +$\n",
    "\n",
    "Lets take a sample from the X_test set, and run it through the coefficients for the linear model.\n",
    "\n",
    "<font size=\"3\">y = X_test[CRIM] * model_coef[CRIM] + X_test[ZN] * model_coef[ZN] + ... + model_intercept</font>"
   ]
  },
  {
   "cell_type": "code",
   "execution_count": 60,
   "metadata": {
    "ExecuteTime": {
     "end_time": "2019-02-28T04:42:23.990740Z",
     "start_time": "2019-02-28T04:42:23.986550Z"
    }
   },
   "outputs": [
    {
     "name": "stdout",
     "output_type": "stream",
     "text": [
      "Feature values\n",
      "CRIM         0.10153\n",
      "ZN           0.00000\n",
      "INDUS       12.83000\n",
      "CHAS         0.00000\n",
      "NOX          0.43700\n",
      "RM           6.27900\n",
      "AGE         74.50000\n",
      "DIS          4.05220\n",
      "RAD          5.00000\n",
      "TAX        398.00000\n",
      "PTRATIO     18.70000\n",
      "B          373.66000\n",
      "LSTAT       11.97000\n",
      "Name: 76, dtype: float64\n"
     ]
    }
   ],
   "source": [
    "# Use the 5th test sample\n",
    "print('Feature values')\n",
    "print(X_test.iloc[5])"
   ]
  },
  {
   "cell_type": "code",
   "execution_count": 61,
   "metadata": {
    "ExecuteTime": {
     "end_time": "2019-02-28T04:42:23.998249Z",
     "start_time": "2019-02-28T04:42:23.993404Z"
    }
   },
   "outputs": [
    {
     "name": "stdout",
     "output_type": "stream",
     "text": [
      "Coefficient values\n"
     ]
    },
    {
     "data": {
      "text/plain": [
       "[(-0.1334701028529461, 'CRIM'),\n",
       " (0.03580891359323195, 'ZN'),\n",
       " (0.04952264522005543, 'INDUS'),\n",
       " (3.119835116285394, 'CHAS'),\n",
       " (-15.417060895306689, 'NOX'),\n",
       " (4.057199231645403, 'RM'),\n",
       " (-0.010820835184926221, 'AGE'),\n",
       " (-1.3859982431608788, 'DIS'),\n",
       " (0.24272733982224926, 'RAD'),\n",
       " (-0.00870223436566183, 'TAX'),\n",
       " (-0.9106852081102881, 'PTRATIO'),\n",
       " (0.011794115892575632, 'B'),\n",
       " (-0.5471133128239569, 'LSTAT')]"
      ]
     },
     "execution_count": 61,
     "metadata": {},
     "output_type": "execute_result"
    }
   ],
   "source": [
    "# reshape the coef array into a column to visualize\n",
    "print('Coefficient values')\n",
    "list(zip(linear_regression_model.coef_, X_test.columns))"
   ]
  },
  {
   "cell_type": "code",
   "execution_count": 62,
   "metadata": {
    "ExecuteTime": {
     "end_time": "2019-02-28T04:42:24.004455Z",
     "start_time": "2019-02-28T04:42:23.999652Z"
    }
   },
   "outputs": [],
   "source": [
    "# y_calculated is the calculated (predicted) home price\n",
    "y_calculated = (X_test.iloc[5]*linear_regression_model.coef_).sum() + linear_regression_model.intercept_"
   ]
  },
  {
   "cell_type": "code",
   "execution_count": 63,
   "metadata": {
    "ExecuteTime": {
     "end_time": "2019-02-28T04:42:24.008698Z",
     "start_time": "2019-02-28T04:42:24.006171Z"
    }
   },
   "outputs": [
    {
     "name": "stdout",
     "output_type": "stream",
     "text": [
      "23.146689436193725\n"
     ]
    }
   ],
   "source": [
    "print(y_calculated)"
   ]
  },
  {
   "cell_type": "code",
   "execution_count": 64,
   "metadata": {
    "ExecuteTime": {
     "end_time": "2019-02-28T04:42:24.013740Z",
     "start_time": "2019-02-28T04:42:24.010352Z"
    }
   },
   "outputs": [
    {
     "data": {
      "text/plain": [
       "23.146689436193725"
      ]
     },
     "execution_count": 64,
     "metadata": {},
     "output_type": "execute_result"
    }
   ],
   "source": [
    "# Show the prediction for the 5th test sample\n",
    "y_pred[5]"
   ]
  },
  {
   "cell_type": "markdown",
   "metadata": {},
   "source": [
    "### Regularization"
   ]
  },
  {
   "cell_type": "markdown",
   "metadata": {},
   "source": [
    "\n",
    "Regularization is a way to handle overfitting by keeping the coefficients to the linear equation from getting too big, and sometimes the coefficients can be regularized to zero.  This is a way of reducing the complexity of a model, and therefore you will reduce the chance of overfitting.\n",
    "\n",
    "Regularization penalizes large coefficients.\n",
    "\n",
    "There is two types of regularization:\n",
    "\n",
    "#### L1 Regularization ( Lasso )\n",
    "This type of regularization attempts to **minimize the sum of the absolute values of the coefficients**.\n",
    "\n",
    "L1 regularization—penalizing the absolute value of all the weights—turns out to be quite efficient for wide models\n",
    "\n",
    "We can use L1 regularization to encourage many of the uninformative coefficients in our model to be exactly 0\n",
    "\n",
    "    alpha * Sum(AbsoluteValue(coeficient))\n",
    "    \n",
    "Lasso Regression Loss Function = mean squared error + alpha * Sum(AbsoluteValue(coeficient))\n",
    "\n",
    "\n",
    "#### L2 Regularization (Ridge)\n",
    "This type of regularization attempts to minimuze the sum of the squares of the coefficients. \n",
    "\n",
    "L2 regularization encourages weights to be small, but doesn't force them to exactly 0.0.\n",
    " \n",
    "    alpha * Sum(coefficient^2)\n",
    "    \n",
    "Ridge Regression Loss Function = mean squared error + alpha * Sum(coefficient^2)\n",
    "\n",
    "\n",
    "Both models take a parameter ***alpha*** that controls the complexity of the model.  As the alpha approaches zero, the model becomes more like the general LinearRegression model.  As alpha grows, all model responses are suppressed.\n",
    "\n",
    "\n",
    "L2 and L1 penalize weights differently:\n",
    "\n",
    "- L2 penalizes weight^2.\n",
    "\n",
    "- L1 penalizes |weight|.\n",
    "\n",
    "Consequently, L2 and L1 have different derivatives:\n",
    "\n",
    "The derivative of L2 is 2 * weight.\n",
    "\n",
    "The derivative of L1 is k (a constant, whose value is independent of weight).\n",
    "\n",
    "You can think of the derivative of L2 as a force that removes x% of the weight every time. L2 does not normally drive weights to zero.\n",
    "\n",
    "You can think of the derivative of L1 as a force that subtracts some constant from the weight every time. However, thanks to absolute values, L1 has a discontinuity at 0, which causes subtraction results that cross 0 to become zeroed out. For example, if subtraction would have forced a weight from +0.1 to -0.2, L1 will set the weight to exactly 0. Meaning, L1 zeroed out the weight.\n",
    "\n",
    "\n",
    "##### Note\n",
    "According to DataCamp:\n",
    "\"Lasso is great for feature selection, but when building regression models, Ridge regression should be your first choice.\"\n",
    "\n",
    "Using L1, and viewing the zero coefficients will indicate the features that do not impact the model results.\n",
    "\n",
    "\n",
    "#### Choosing alpha\n",
    "Choosing the best alpha is part of Hyperparameter tuning section\n"
   ]
  },
  {
   "cell_type": "markdown",
   "metadata": {},
   "source": [
    "#### Lasso Regression"
   ]
  },
  {
   "cell_type": "code",
   "execution_count": 65,
   "metadata": {
    "ExecuteTime": {
     "end_time": "2019-02-28T04:42:24.017934Z",
     "start_time": "2019-02-28T04:42:24.015117Z"
    }
   },
   "outputs": [],
   "source": [
    "from sklearn.linear_model import Lasso"
   ]
  },
  {
   "cell_type": "code",
   "execution_count": 66,
   "metadata": {
    "ExecuteTime": {
     "end_time": "2019-02-28T04:42:24.022220Z",
     "start_time": "2019-02-28T04:42:24.019518Z"
    }
   },
   "outputs": [],
   "source": [
    "# normalize=True\n",
    "# makes sure that all features are on the same scale\n",
    "# If True, the regressors X will be normalized before regression by subtracting the mean and dividing by the norm\n",
    "lasso = Lasso(alpha=0.1, normalize=True)"
   ]
  },
  {
   "cell_type": "code",
   "execution_count": 67,
   "metadata": {
    "ExecuteTime": {
     "end_time": "2019-02-28T04:42:24.027691Z",
     "start_time": "2019-02-28T04:42:24.023768Z"
    }
   },
   "outputs": [],
   "source": [
    "lasso_coef = lasso.fit(X,y)"
   ]
  },
  {
   "cell_type": "markdown",
   "metadata": {},
   "source": [
    "Notice that many of the coefficients are now zero.  Those features with a zero coefficient are not considered important to the model."
   ]
  },
  {
   "cell_type": "code",
   "execution_count": 68,
   "metadata": {
    "ExecuteTime": {
     "end_time": "2019-02-28T04:42:24.033503Z",
     "start_time": "2019-02-28T04:42:24.029593Z"
    }
   },
   "outputs": [
    {
     "data": {
      "text/plain": [
       "array([-0.        ,  0.        , -0.        ,  0.        , -0.        ,\n",
       "        2.95469455, -0.        ,  0.        , -0.        , -0.        ,\n",
       "       -0.24795837,  0.        , -0.42817439])"
      ]
     },
     "execution_count": 68,
     "metadata": {},
     "output_type": "execute_result"
    }
   ],
   "source": [
    "lasso_coef.coef_"
   ]
  },
  {
   "cell_type": "code",
   "execution_count": 69,
   "metadata": {
    "ExecuteTime": {
     "end_time": "2019-02-28T04:42:24.039985Z",
     "start_time": "2019-02-28T04:42:24.035241Z"
    }
   },
   "outputs": [
    {
     "data": {
      "text/plain": [
       "[(-0.0, 'CRIM'),\n",
       " (0.0, 'ZN'),\n",
       " (-0.0, 'INDUS'),\n",
       " (0.0, 'CHAS'),\n",
       " (-0.0, 'NOX'),\n",
       " (2.9546945549935306, 'RM'),\n",
       " (-0.0, 'AGE'),\n",
       " (0.0, 'DIS'),\n",
       " (-0.0, 'RAD'),\n",
       " (-0.0, 'TAX'),\n",
       " (-0.24795837092031373, 'PTRATIO'),\n",
       " (0.0, 'B'),\n",
       " (-0.4281743894034839, 'LSTAT')]"
      ]
     },
     "execution_count": 69,
     "metadata": {},
     "output_type": "execute_result"
    }
   ],
   "source": [
    "list(zip(lasso_coef.coef_, X.columns))"
   ]
  },
  {
   "cell_type": "code",
   "execution_count": 70,
   "metadata": {
    "ExecuteTime": {
     "end_time": "2019-02-28T04:42:24.046165Z",
     "start_time": "2019-02-28T04:42:24.041561Z"
    }
   },
   "outputs": [
    {
     "data": {
      "text/plain": [
       "['CRIM',\n",
       " 'ZN',\n",
       " 'INDUS',\n",
       " 'CHAS',\n",
       " 'NOX',\n",
       " 'RM',\n",
       " 'AGE',\n",
       " 'DIS',\n",
       " 'RAD',\n",
       " 'TAX',\n",
       " 'PTRATIO',\n",
       " 'B',\n",
       " 'LSTAT']"
      ]
     },
     "execution_count": 70,
     "metadata": {},
     "output_type": "execute_result"
    }
   ],
   "source": [
    "X.columns.tolist()"
   ]
  },
  {
   "cell_type": "code",
   "execution_count": 71,
   "metadata": {
    "ExecuteTime": {
     "end_time": "2019-02-28T04:42:24.205338Z",
     "start_time": "2019-02-28T04:42:24.047770Z"
    }
   },
   "outputs": [
    {
     "data": {
      "image/png": "[encoded data removed]",
      "text/plain": [
       "<Figure size 432x288 with 1 Axes>"
      ]
     },
     "metadata": {},
     "output_type": "display_data"
    }
   ],
   "source": [
    "_ = plt.plot(range(len(X.columns.tolist())), lasso_coef.coef_)\n",
    "_ = plt.xticks(range(len(X.columns.tolist())), X.columns.tolist(), rotation=60)\n",
    "_ = plt.ylabel('Coefficients')\n",
    "plt.show()"
   ]
  },
  {
   "cell_type": "markdown",
   "metadata": {},
   "source": [
    "Shows that the number of rooms is the most important feature to home price prediction"
   ]
  },
  {
   "cell_type": "code",
   "execution_count": 72,
   "metadata": {
    "ExecuteTime": {
     "end_time": "2019-02-28T04:42:24.211211Z",
     "start_time": "2019-02-28T04:42:24.207468Z"
    }
   },
   "outputs": [],
   "source": [
    "y_pred = lasso.predict(X_test)"
   ]
  },
  {
   "cell_type": "code",
   "execution_count": 73,
   "metadata": {
    "ExecuteTime": {
     "end_time": "2019-02-28T04:42:24.440788Z",
     "start_time": "2019-02-28T04:42:24.213894Z"
    }
   },
   "outputs": [
    {
     "data": {
      "text/plain": [
       "Text(0.5, 1.0, 'Prices vs Predicted prices: $y_i$ vs $\\\\hat{y}_i$')"
      ]
     },
     "execution_count": 73,
     "metadata": {},
     "output_type": "execute_result"
    },
    {
     "data": {
      "image/png": "[encoded data removed]",
      "text/plain": [
       "<Figure size 720x432 with 1 Axes>"
      ]
     },
     "metadata": {},
     "output_type": "display_data"
    }
   ],
   "source": [
    "plt.figure(figsize=(10,6))\n",
    "plt.scatter(y_test, y_pred)\n",
    "plt.xlabel(\"Actual Prices: $y_i$\")\n",
    "plt.ylabel(\"Predicted prices: $\\hat{y}_i$\")\n",
    "plt.title(\"Prices vs Predicted prices: $y_i$ vs $\\hat{y}_i$\")"
   ]
  },
  {
   "cell_type": "markdown",
   "metadata": {},
   "source": [
    "The above plot shows that the variable between actual and predicted is larger than with standard linear regression.  As a result we should expect the error to be slightly larger."
   ]
  },
  {
   "cell_type": "code",
   "execution_count": 74,
   "metadata": {
    "ExecuteTime": {
     "end_time": "2019-02-28T04:42:24.446589Z",
     "start_time": "2019-02-28T04:42:24.443304Z"
    }
   },
   "outputs": [
    {
     "name": "stdout",
     "output_type": "stream",
     "text": [
      "32.26671429325058\n"
     ]
    }
   ],
   "source": [
    "mse = mean_squared_error(y_test,  y_pred)\n",
    "print(mse)"
   ]
  },
  {
   "cell_type": "markdown",
   "metadata": {},
   "source": [
    "#### Ridge Regression\n",
    "\n",
    "    alpha * Sum(coefficient^2)"
   ]
  },
  {
   "cell_type": "code",
   "execution_count": 75,
   "metadata": {
    "ExecuteTime": {
     "end_time": "2019-02-28T04:42:24.451590Z",
     "start_time": "2019-02-28T04:42:24.448997Z"
    }
   },
   "outputs": [],
   "source": [
    "from sklearn.linear_model import Ridge"
   ]
  },
  {
   "cell_type": "code",
   "execution_count": 76,
   "metadata": {
    "ExecuteTime": {
     "end_time": "2019-02-28T04:42:24.457021Z",
     "start_time": "2019-02-28T04:42:24.454055Z"
    }
   },
   "outputs": [],
   "source": [
    "# normalize=True\n",
    "# makes sure all features are on the same scale\n",
    "ridge = Ridge(alpha=0.1, normalize=True)"
   ]
  },
  {
   "cell_type": "code",
   "execution_count": 77,
   "metadata": {
    "ExecuteTime": {
     "end_time": "2019-02-28T04:42:24.465284Z",
     "start_time": "2019-02-28T04:42:24.459456Z"
    }
   },
   "outputs": [],
   "source": [
    "ridge_coef = ridge.fit(X,y)"
   ]
  },
  {
   "cell_type": "markdown",
   "metadata": {},
   "source": [
    "Notice that none of these coefficients are zero.  However, some are pretty small."
   ]
  },
  {
   "cell_type": "code",
   "execution_count": 78,
   "metadata": {
    "ExecuteTime": {
     "end_time": "2019-02-28T04:42:24.471816Z",
     "start_time": "2019-02-28T04:42:24.467036Z"
    }
   },
   "outputs": [
    {
     "data": {
      "text/plain": [
       "array([-8.39972182e-02,  3.01457989e-02, -4.51085108e-02,  2.91942377e+00,\n",
       "       -1.07499818e+01,  4.02329138e+00, -4.56047447e-03, -1.03180235e+00,\n",
       "        1.30441043e-01, -4.95778250e-03, -8.32529832e-01,  8.96754880e-03,\n",
       "       -4.57771753e-01])"
      ]
     },
     "execution_count": 78,
     "metadata": {},
     "output_type": "execute_result"
    }
   ],
   "source": [
    "ridge_coef.coef_"
   ]
  },
  {
   "cell_type": "code",
   "execution_count": 79,
   "metadata": {
    "ExecuteTime": {
     "end_time": "2019-02-28T04:42:24.480094Z",
     "start_time": "2019-02-28T04:42:24.474457Z"
    }
   },
   "outputs": [
    {
     "data": {
      "text/plain": [
       "[(-0.08399721822803635, 'CRIM'),\n",
       " (0.03014579892453068, 'ZN'),\n",
       " (-0.04510851075272262, 'INDUS'),\n",
       " (2.919423766004386, 'CHAS'),\n",
       " (-10.749981827139818, 'NOX'),\n",
       " (4.023291380660406, 'RM'),\n",
       " (-0.004560474473599265, 'AGE'),\n",
       " (-1.031802347553517, 'DIS'),\n",
       " (0.13044104282635272, 'RAD'),\n",
       " (-0.004957782498087571, 'TAX'),\n",
       " (-0.8325298316349677, 'PTRATIO'),\n",
       " (0.008967548801025073, 'B'),\n",
       " (-0.45777175268504433, 'LSTAT')]"
      ]
     },
     "execution_count": 79,
     "metadata": {},
     "output_type": "execute_result"
    }
   ],
   "source": [
    "list(zip(ridge_coef.coef_, X.columns))"
   ]
  },
  {
   "cell_type": "markdown",
   "metadata": {},
   "source": [
    "Plot each feature and their corresponding coefficient."
   ]
  },
  {
   "cell_type": "code",
   "execution_count": 80,
   "metadata": {
    "ExecuteTime": {
     "end_time": "2019-02-28T04:42:24.640559Z",
     "start_time": "2019-02-28T04:42:24.481462Z"
    }
   },
   "outputs": [
    {
     "data": {
      "image/png": "[encoded data removed]",
      "text/plain": [
       "<Figure size 432x288 with 1 Axes>"
      ]
     },
     "metadata": {},
     "output_type": "display_data"
    }
   ],
   "source": [
    "_ = plt.plot(range(len(X.columns.tolist())), ridge_coef.coef_)\n",
    "_ = plt.xticks(range(len(X.columns.tolist())), X.columns.tolist(), rotation=60)\n",
    "_ = plt.ylabel('Coefficients')\n",
    "plt.show()"
   ]
  },
  {
   "cell_type": "code",
   "execution_count": 81,
   "metadata": {
    "ExecuteTime": {
     "end_time": "2019-02-28T04:42:24.646075Z",
     "start_time": "2019-02-28T04:42:24.642884Z"
    }
   },
   "outputs": [],
   "source": [
    "y_pred = ridge.predict(X_test)"
   ]
  },
  {
   "cell_type": "code",
   "execution_count": 82,
   "metadata": {
    "ExecuteTime": {
     "end_time": "2019-02-28T04:42:24.912074Z",
     "start_time": "2019-02-28T04:42:24.648635Z"
    }
   },
   "outputs": [
    {
     "data": {
      "text/plain": [
       "Text(0.5, 1.0, 'Prices vs Predicted prices: $y_i$ vs $\\\\hat{y}_i$')"
      ]
     },
     "execution_count": 82,
     "metadata": {},
     "output_type": "execute_result"
    },
    {
     "data": {
      "image/png": "[encoded data removed]",
      "text/plain": [
       "<Figure size 720x432 with 1 Axes>"
      ]
     },
     "metadata": {},
     "output_type": "display_data"
    }
   ],
   "source": [
    "plt.figure(figsize=(10,6))\n",
    "plt.scatter(y_test, y_pred)\n",
    "plt.xlabel(\"Actual Prices: $y_i$\")\n",
    "plt.ylabel(\"Predicted prices: $\\hat{y}_i$\")\n",
    "plt.title(\"Prices vs Predicted prices: $y_i$ vs $\\hat{y}_i$\")"
   ]
  },
  {
   "cell_type": "markdown",
   "metadata": {},
   "source": [
    "The above plot shows that the variable between actual and predicted is small than with eitherstandard linear regression or Lasso regression.  As a result we should expect the error to be slightly smaller."
   ]
  },
  {
   "cell_type": "code",
   "execution_count": 83,
   "metadata": {
    "ExecuteTime": {
     "end_time": "2019-02-28T04:42:24.917956Z",
     "start_time": "2019-02-28T04:42:24.914299Z"
    }
   },
   "outputs": [
    {
     "name": "stdout",
     "output_type": "stream",
     "text": [
      "20.86053274834056\n"
     ]
    }
   ],
   "source": [
    "mse = mean_squared_error(y_test,  y_pred)\n",
    "print(mse)"
   ]
  },
  {
   "cell_type": "markdown",
   "metadata": {},
   "source": [
    "## Data Preparation"
   ]
  },
  {
   "cell_type": "markdown",
   "metadata": {},
   "source": [
    "### Null or Missing Values"
   ]
  },
  {
   "cell_type": "markdown",
   "metadata": {},
   "source": [
    "How do you handle data from a dataset that is missing, or perhaps provided but not zeroed out?\n",
    "\n",
    "Look at the diabetes dataset."
   ]
  },
  {
   "cell_type": "code",
   "execution_count": 84,
   "metadata": {
    "ExecuteTime": {
     "end_time": "2019-02-28T04:42:24.927151Z",
     "start_time": "2019-02-28T04:42:24.920183Z"
    }
   },
   "outputs": [],
   "source": [
    "df = pd.read_csv('./data/diabetes.csv')"
   ]
  },
  {
   "cell_type": "code",
   "execution_count": 85,
   "metadata": {
    "ExecuteTime": {
     "end_time": "2019-02-28T04:42:24.938047Z",
     "start_time": "2019-02-28T04:42:24.929823Z"
    }
   },
   "outputs": [
    {
     "name": "stdout",
     "output_type": "stream",
     "text": [
      "<class 'pandas.core.frame.DataFrame'>\n",
      "RangeIndex: 768 entries, 0 to 767\n",
      "Data columns (total 9 columns):\n",
      "pregnancies    768 non-null int64\n",
      "glucose        768 non-null int64\n",
      "diastolic      768 non-null int64\n",
      "triceps        768 non-null int64\n",
      "insulin        768 non-null int64\n",
      "bmi            768 non-null float64\n",
      "dpf            768 non-null float64\n",
      "age            768 non-null int64\n",
      "diabetes       768 non-null int64\n",
      "dtypes: float64(2), int64(7)\n",
      "memory usage: 54.1 KB\n"
     ]
    }
   ],
   "source": [
    "df.info()"
   ]
  },
  {
   "cell_type": "markdown",
   "metadata": {},
   "source": [
    "The dataframe contains values for rows, but looking at the actual data reveals that some values are zero.  Zero for insulin, and triceps (thickness of skin) really indicate a missing value where zero preganancies is a valid value.  You understand the data you are working with."
   ]
  },
  {
   "cell_type": "code",
   "execution_count": 86,
   "metadata": {
    "ExecuteTime": {
     "end_time": "2019-02-28T04:42:24.950983Z",
     "start_time": "2019-02-28T04:42:24.939880Z"
    }
   },
   "outputs": [
    {
     "data": {
      "text/html": [
       "<div>\n",
       "<style scoped>\n",
       "    .dataframe tbody tr th:only-of-type {\n",
       "        vertical-align: middle;\n",
       "    }\n",
       "\n",
       "    .dataframe tbody tr th {\n",
       "        vertical-align: top;\n",
       "    }\n",
       "\n",
       "    .dataframe thead th {\n",
       "        text-align: right;\n",
       "    }\n",
       "</style>\n",
       "<table border=\"1\" class=\"dataframe\">\n",
       "  <thead>\n",
       "    <tr style=\"text-align: right;\">\n",
       "      <th></th>\n",
       "      <th>pregnancies</th>\n",
       "      <th>glucose</th>\n",
       "      <th>diastolic</th>\n",
       "      <th>triceps</th>\n",
       "      <th>insulin</th>\n",
       "      <th>bmi</th>\n",
       "      <th>dpf</th>\n",
       "      <th>age</th>\n",
       "      <th>diabetes</th>\n",
       "    </tr>\n",
       "  </thead>\n",
       "  <tbody>\n",
       "    <tr>\n",
       "      <th>0</th>\n",
       "      <td>6</td>\n",
       "      <td>148</td>\n",
       "      <td>72</td>\n",
       "      <td>35</td>\n",
       "      <td>0</td>\n",
       "      <td>33.6</td>\n",
       "      <td>0.627</td>\n",
       "      <td>50</td>\n",
       "      <td>1</td>\n",
       "    </tr>\n",
       "    <tr>\n",
       "      <th>1</th>\n",
       "      <td>1</td>\n",
       "      <td>85</td>\n",
       "      <td>66</td>\n",
       "      <td>29</td>\n",
       "      <td>0</td>\n",
       "      <td>26.6</td>\n",
       "      <td>0.351</td>\n",
       "      <td>31</td>\n",
       "      <td>0</td>\n",
       "    </tr>\n",
       "    <tr>\n",
       "      <th>2</th>\n",
       "      <td>8</td>\n",
       "      <td>183</td>\n",
       "      <td>64</td>\n",
       "      <td>0</td>\n",
       "      <td>0</td>\n",
       "      <td>23.3</td>\n",
       "      <td>0.672</td>\n",
       "      <td>32</td>\n",
       "      <td>1</td>\n",
       "    </tr>\n",
       "    <tr>\n",
       "      <th>3</th>\n",
       "      <td>1</td>\n",
       "      <td>89</td>\n",
       "      <td>66</td>\n",
       "      <td>23</td>\n",
       "      <td>94</td>\n",
       "      <td>28.1</td>\n",
       "      <td>0.167</td>\n",
       "      <td>21</td>\n",
       "      <td>0</td>\n",
       "    </tr>\n",
       "    <tr>\n",
       "      <th>4</th>\n",
       "      <td>0</td>\n",
       "      <td>137</td>\n",
       "      <td>40</td>\n",
       "      <td>35</td>\n",
       "      <td>168</td>\n",
       "      <td>43.1</td>\n",
       "      <td>2.288</td>\n",
       "      <td>33</td>\n",
       "      <td>1</td>\n",
       "    </tr>\n",
       "  </tbody>\n",
       "</table>\n",
       "</div>"
      ],
      "text/plain": [
       "   pregnancies  glucose  diastolic  triceps  insulin   bmi    dpf  age  \\\n",
       "0            6      148         72       35        0  33.6  0.627   50   \n",
       "1            1       85         66       29        0  26.6  0.351   31   \n",
       "2            8      183         64        0        0  23.3  0.672   32   \n",
       "3            1       89         66       23       94  28.1  0.167   21   \n",
       "4            0      137         40       35      168  43.1  2.288   33   \n",
       "\n",
       "   diabetes  \n",
       "0         1  \n",
       "1         0  \n",
       "2         1  \n",
       "3         0  \n",
       "4         1  "
      ]
     },
     "execution_count": 86,
     "metadata": {},
     "output_type": "execute_result"
    }
   ],
   "source": [
    "df.head(5)"
   ]
  },
  {
   "cell_type": "markdown",
   "metadata": {},
   "source": [
    "Use numpy's 'nan' to replace 0 values with NaN"
   ]
  },
  {
   "cell_type": "code",
   "execution_count": 87,
   "metadata": {
    "ExecuteTime": {
     "end_time": "2019-02-28T04:42:24.970531Z",
     "start_time": "2019-02-28T04:42:24.952598Z"
    }
   },
   "outputs": [
    {
     "name": "stdout",
     "output_type": "stream",
     "text": [
      "<class 'pandas.core.frame.DataFrame'>\n",
      "RangeIndex: 768 entries, 0 to 767\n",
      "Data columns (total 9 columns):\n",
      "pregnancies    768 non-null int64\n",
      "glucose        768 non-null int64\n",
      "diastolic      768 non-null int64\n",
      "triceps        541 non-null float64\n",
      "insulin        394 non-null float64\n",
      "bmi            757 non-null float64\n",
      "dpf            768 non-null float64\n",
      "age            768 non-null int64\n",
      "diabetes       768 non-null int64\n",
      "dtypes: float64(4), int64(5)\n",
      "memory usage: 54.1 KB\n",
      "None\n",
      "   pregnancies  glucose  diastolic  triceps  insulin   bmi    dpf  age  \\\n",
      "0            6      148         72     35.0      NaN  33.6  0.627   50   \n",
      "1            1       85         66     29.0      NaN  26.6  0.351   31   \n",
      "2            8      183         64      NaN      NaN  23.3  0.672   32   \n",
      "3            1       89         66     23.0     94.0  28.1  0.167   21   \n",
      "4            0      137         40     35.0    168.0  43.1  2.288   33   \n",
      "\n",
      "   diabetes  \n",
      "0         1  \n",
      "1         0  \n",
      "2         1  \n",
      "3         0  \n",
      "4         1  \n"
     ]
    }
   ],
   "source": [
    "df.insulin.replace(0, np.nan, inplace=True)\n",
    "\n",
    "df.triceps.replace(0, np.nan, inplace=True)\n",
    "\n",
    "df.bmi.replace(0, np.nan, inplace=True)\n",
    "\n",
    "print(df.info())\n",
    "\n",
    "print(df.head(5))"
   ]
  },
  {
   "cell_type": "markdown",
   "metadata": {},
   "source": [
    "Now we can see missing values.  \n",
    "\n",
    "#### Missing Value Imputation\n",
    "\n",
    "How to handle the missing values:\n",
    "\n",
    "- Drop the values, which is generally not a great idea\n",
    "\n",
    "- impute a value by taking the mean or median or most frequent values."
   ]
  },
  {
   "cell_type": "code",
   "execution_count": 88,
   "metadata": {
    "ExecuteTime": {
     "end_time": "2019-02-28T04:42:24.985418Z",
     "start_time": "2019-02-28T04:42:24.982181Z"
    }
   },
   "outputs": [],
   "source": [
    "from sklearn.impute import SimpleImputer\n",
    "# strategy could be:\n",
    "#         allowed_strategies = [\"mean\", \"median\", \"most_frequent\", \"constant\"]\n",
    "imp = SimpleImputer(missing_values=np.nan, strategy='mean')\n"
   ]
  },
  {
   "cell_type": "code",
   "execution_count": 89,
   "metadata": {
    "ExecuteTime": {
     "end_time": "2019-02-28T04:42:25.007032Z",
     "start_time": "2019-02-28T04:42:24.987329Z"
    }
   },
   "outputs": [
    {
     "name": "stdout",
     "output_type": "stream",
     "text": [
      "<class 'pandas.core.frame.DataFrame'>\n",
      "RangeIndex: 768 entries, 0 to 767\n",
      "Data columns (total 8 columns):\n",
      "pregnancies    768 non-null float64\n",
      "glucose        768 non-null float64\n",
      "diastolic      768 non-null float64\n",
      "triceps        768 non-null float64\n",
      "insulin        768 non-null float64\n",
      "bmi            768 non-null float64\n",
      "dpf            768 non-null float64\n",
      "age            768 non-null float64\n",
      "dtypes: float64(8)\n",
      "memory usage: 48.1 KB\n",
      "None\n",
      "   pregnancies  glucose  diastolic  triceps  insulin   bmi    dpf  age  \\\n",
      "0            6      148         72     35.0      NaN  33.6  0.627   50   \n",
      "1            1       85         66     29.0      NaN  26.6  0.351   31   \n",
      "2            8      183         64      NaN      NaN  23.3  0.672   32   \n",
      "3            1       89         66     23.0     94.0  28.1  0.167   21   \n",
      "4            0      137         40     35.0    168.0  43.1  2.288   33   \n",
      "\n",
      "   diabetes  \n",
      "0         1  \n",
      "1         0  \n",
      "2         1  \n",
      "3         0  \n",
      "4         1  \n",
      "   pregnancies  glucose  diastolic   triceps     insulin   bmi    dpf   age\n",
      "0          6.0    148.0       72.0  35.00000  155.548223  33.6  0.627  50.0\n",
      "1          1.0     85.0       66.0  29.00000  155.548223  26.6  0.351  31.0\n",
      "2          8.0    183.0       64.0  29.15342  155.548223  23.3  0.672  32.0\n",
      "3          1.0     89.0       66.0  23.00000   94.000000  28.1  0.167  21.0\n",
      "4          0.0    137.0       40.0  35.00000  168.000000  43.1  2.288  33.0\n"
     ]
    }
   ],
   "source": [
    "X = df.drop(columns=['diabetes'])\n",
    "y = df['diabetes']\n",
    "\n",
    "# Notice the fit/transform methods which will allow for usage in a pipelines \n",
    "# discussed later\n",
    "\n",
    "imp.fit(X)\n",
    "\n",
    "X_transformed = imp.transform(X)\n",
    "\n",
    "df_new = pd.DataFrame(X_transformed, columns=X.columns)\n",
    "\n",
    "print(df_new.info())\n",
    "print(df.head(5))\n",
    "print(df_new.head(5))"
   ]
  },
  {
   "cell_type": "markdown",
   "metadata": {},
   "source": [
    "### Scaling Feature Values"
   ]
  },
  {
   "cell_type": "markdown",
   "metadata": {},
   "source": [
    "Many Machine Learning algorithms do not handle data with features that are on different scales and ranges of values.  \n",
    "\n",
    "It is generally best to make sure all features are on a similar range - called normalizing.\n",
    "\n",
    "Standardization - subtract the mean and divide by the variables.\n",
    "\n",
    "There are many different ways in Scikit-learn to normalize data.\n",
    "\n",
    "Use Scikit-learn StandardScaler which standardizes features by removing the mean and scaling to unit variance\n"
   ]
  },
  {
   "cell_type": "code",
   "execution_count": 90,
   "metadata": {
    "ExecuteTime": {
     "end_time": "2019-02-28T04:42:25.016606Z",
     "start_time": "2019-02-28T04:42:25.008845Z"
    }
   },
   "outputs": [],
   "source": [
    "from sklearn.preprocessing import StandardScaler\n",
    "import pandas as pd\n",
    "\n",
    "\n",
    "df = pd.read_csv('./data/red_wine_quality.csv', sep=';')"
   ]
  },
  {
   "cell_type": "code",
   "execution_count": 91,
   "metadata": {
    "ExecuteTime": {
     "end_time": "2019-02-28T04:42:25.031460Z",
     "start_time": "2019-02-28T04:42:25.018201Z"
    }
   },
   "outputs": [
    {
     "data": {
      "text/html": [
       "<div>\n",
       "<style scoped>\n",
       "    .dataframe tbody tr th:only-of-type {\n",
       "        vertical-align: middle;\n",
       "    }\n",
       "\n",
       "    .dataframe tbody tr th {\n",
       "        vertical-align: top;\n",
       "    }\n",
       "\n",
       "    .dataframe thead th {\n",
       "        text-align: right;\n",
       "    }\n",
       "</style>\n",
       "<table border=\"1\" class=\"dataframe\">\n",
       "  <thead>\n",
       "    <tr style=\"text-align: right;\">\n",
       "      <th></th>\n",
       "      <th>fixed acidity</th>\n",
       "      <th>volatile acidity</th>\n",
       "      <th>citric acid</th>\n",
       "      <th>residual sugar</th>\n",
       "      <th>chlorides</th>\n",
       "      <th>free sulfur dioxide</th>\n",
       "      <th>total sulfur dioxide</th>\n",
       "      <th>density</th>\n",
       "      <th>pH</th>\n",
       "      <th>sulphates</th>\n",
       "      <th>alcohol</th>\n",
       "      <th>quality</th>\n",
       "    </tr>\n",
       "  </thead>\n",
       "  <tbody>\n",
       "    <tr>\n",
       "      <th>0</th>\n",
       "      <td>7.4</td>\n",
       "      <td>0.70</td>\n",
       "      <td>0.00</td>\n",
       "      <td>1.9</td>\n",
       "      <td>0.076</td>\n",
       "      <td>11.0</td>\n",
       "      <td>34.0</td>\n",
       "      <td>0.9978</td>\n",
       "      <td>3.51</td>\n",
       "      <td>0.56</td>\n",
       "      <td>9.4</td>\n",
       "      <td>5</td>\n",
       "    </tr>\n",
       "    <tr>\n",
       "      <th>1</th>\n",
       "      <td>7.8</td>\n",
       "      <td>0.88</td>\n",
       "      <td>0.00</td>\n",
       "      <td>2.6</td>\n",
       "      <td>0.098</td>\n",
       "      <td>25.0</td>\n",
       "      <td>67.0</td>\n",
       "      <td>0.9968</td>\n",
       "      <td>3.20</td>\n",
       "      <td>0.68</td>\n",
       "      <td>9.8</td>\n",
       "      <td>5</td>\n",
       "    </tr>\n",
       "    <tr>\n",
       "      <th>2</th>\n",
       "      <td>7.8</td>\n",
       "      <td>0.76</td>\n",
       "      <td>0.04</td>\n",
       "      <td>2.3</td>\n",
       "      <td>0.092</td>\n",
       "      <td>15.0</td>\n",
       "      <td>54.0</td>\n",
       "      <td>0.9970</td>\n",
       "      <td>3.26</td>\n",
       "      <td>0.65</td>\n",
       "      <td>9.8</td>\n",
       "      <td>5</td>\n",
       "    </tr>\n",
       "    <tr>\n",
       "      <th>3</th>\n",
       "      <td>11.2</td>\n",
       "      <td>0.28</td>\n",
       "      <td>0.56</td>\n",
       "      <td>1.9</td>\n",
       "      <td>0.075</td>\n",
       "      <td>17.0</td>\n",
       "      <td>60.0</td>\n",
       "      <td>0.9980</td>\n",
       "      <td>3.16</td>\n",
       "      <td>0.58</td>\n",
       "      <td>9.8</td>\n",
       "      <td>6</td>\n",
       "    </tr>\n",
       "    <tr>\n",
       "      <th>4</th>\n",
       "      <td>7.4</td>\n",
       "      <td>0.70</td>\n",
       "      <td>0.00</td>\n",
       "      <td>1.9</td>\n",
       "      <td>0.076</td>\n",
       "      <td>11.0</td>\n",
       "      <td>34.0</td>\n",
       "      <td>0.9978</td>\n",
       "      <td>3.51</td>\n",
       "      <td>0.56</td>\n",
       "      <td>9.4</td>\n",
       "      <td>5</td>\n",
       "    </tr>\n",
       "  </tbody>\n",
       "</table>\n",
       "</div>"
      ],
      "text/plain": [
       "   fixed acidity  volatile acidity  citric acid  residual sugar  chlorides  \\\n",
       "0            7.4              0.70         0.00             1.9      0.076   \n",
       "1            7.8              0.88         0.00             2.6      0.098   \n",
       "2            7.8              0.76         0.04             2.3      0.092   \n",
       "3           11.2              0.28         0.56             1.9      0.075   \n",
       "4            7.4              0.70         0.00             1.9      0.076   \n",
       "\n",
       "   free sulfur dioxide  total sulfur dioxide  density    pH  sulphates  \\\n",
       "0                 11.0                  34.0   0.9978  3.51       0.56   \n",
       "1                 25.0                  67.0   0.9968  3.20       0.68   \n",
       "2                 15.0                  54.0   0.9970  3.26       0.65   \n",
       "3                 17.0                  60.0   0.9980  3.16       0.58   \n",
       "4                 11.0                  34.0   0.9978  3.51       0.56   \n",
       "\n",
       "   alcohol  quality  \n",
       "0      9.4        5  \n",
       "1      9.8        5  \n",
       "2      9.8        5  \n",
       "3      9.8        6  \n",
       "4      9.4        5  "
      ]
     },
     "execution_count": 91,
     "metadata": {},
     "output_type": "execute_result"
    }
   ],
   "source": [
    "df.head(5)"
   ]
  },
  {
   "cell_type": "code",
   "execution_count": 92,
   "metadata": {
    "ExecuteTime": {
     "end_time": "2019-02-28T04:42:25.039728Z",
     "start_time": "2019-02-28T04:42:25.032763Z"
    }
   },
   "outputs": [],
   "source": [
    "X = df.drop(columns=['quality'])\n",
    "y = df['quality']\n",
    "\n",
    "scalar = StandardScaler()\n",
    "X_scaled = scalar.fit_transform(X)"
   ]
  },
  {
   "cell_type": "code",
   "execution_count": 93,
   "metadata": {
    "ExecuteTime": {
     "end_time": "2019-02-28T04:42:25.054936Z",
     "start_time": "2019-02-28T04:42:25.040896Z"
    }
   },
   "outputs": [
    {
     "data": {
      "text/html": [
       "<div>\n",
       "<style scoped>\n",
       "    .dataframe tbody tr th:only-of-type {\n",
       "        vertical-align: middle;\n",
       "    }\n",
       "\n",
       "    .dataframe tbody tr th {\n",
       "        vertical-align: top;\n",
       "    }\n",
       "\n",
       "    .dataframe thead th {\n",
       "        text-align: right;\n",
       "    }\n",
       "</style>\n",
       "<table border=\"1\" class=\"dataframe\">\n",
       "  <thead>\n",
       "    <tr style=\"text-align: right;\">\n",
       "      <th></th>\n",
       "      <th>fixed acidity</th>\n",
       "      <th>volatile acidity</th>\n",
       "      <th>citric acid</th>\n",
       "      <th>residual sugar</th>\n",
       "      <th>chlorides</th>\n",
       "      <th>free sulfur dioxide</th>\n",
       "      <th>total sulfur dioxide</th>\n",
       "      <th>density</th>\n",
       "      <th>pH</th>\n",
       "      <th>sulphates</th>\n",
       "      <th>alcohol</th>\n",
       "    </tr>\n",
       "  </thead>\n",
       "  <tbody>\n",
       "    <tr>\n",
       "      <th>0</th>\n",
       "      <td>-0.528360</td>\n",
       "      <td>0.961877</td>\n",
       "      <td>-1.391472</td>\n",
       "      <td>-0.453218</td>\n",
       "      <td>-0.243707</td>\n",
       "      <td>-0.466193</td>\n",
       "      <td>-0.379133</td>\n",
       "      <td>0.558274</td>\n",
       "      <td>1.288643</td>\n",
       "      <td>-0.579207</td>\n",
       "      <td>-0.960246</td>\n",
       "    </tr>\n",
       "    <tr>\n",
       "      <th>1</th>\n",
       "      <td>-0.298547</td>\n",
       "      <td>1.967442</td>\n",
       "      <td>-1.391472</td>\n",
       "      <td>0.043416</td>\n",
       "      <td>0.223875</td>\n",
       "      <td>0.872638</td>\n",
       "      <td>0.624363</td>\n",
       "      <td>0.028261</td>\n",
       "      <td>-0.719933</td>\n",
       "      <td>0.128950</td>\n",
       "      <td>-0.584777</td>\n",
       "    </tr>\n",
       "    <tr>\n",
       "      <th>2</th>\n",
       "      <td>-0.298547</td>\n",
       "      <td>1.297065</td>\n",
       "      <td>-1.186070</td>\n",
       "      <td>-0.169427</td>\n",
       "      <td>0.096353</td>\n",
       "      <td>-0.083669</td>\n",
       "      <td>0.229047</td>\n",
       "      <td>0.134264</td>\n",
       "      <td>-0.331177</td>\n",
       "      <td>-0.048089</td>\n",
       "      <td>-0.584777</td>\n",
       "    </tr>\n",
       "    <tr>\n",
       "      <th>3</th>\n",
       "      <td>1.654856</td>\n",
       "      <td>-1.384443</td>\n",
       "      <td>1.484154</td>\n",
       "      <td>-0.453218</td>\n",
       "      <td>-0.264960</td>\n",
       "      <td>0.107592</td>\n",
       "      <td>0.411500</td>\n",
       "      <td>0.664277</td>\n",
       "      <td>-0.979104</td>\n",
       "      <td>-0.461180</td>\n",
       "      <td>-0.584777</td>\n",
       "    </tr>\n",
       "    <tr>\n",
       "      <th>4</th>\n",
       "      <td>-0.528360</td>\n",
       "      <td>0.961877</td>\n",
       "      <td>-1.391472</td>\n",
       "      <td>-0.453218</td>\n",
       "      <td>-0.243707</td>\n",
       "      <td>-0.466193</td>\n",
       "      <td>-0.379133</td>\n",
       "      <td>0.558274</td>\n",
       "      <td>1.288643</td>\n",
       "      <td>-0.579207</td>\n",
       "      <td>-0.960246</td>\n",
       "    </tr>\n",
       "  </tbody>\n",
       "</table>\n",
       "</div>"
      ],
      "text/plain": [
       "   fixed acidity  volatile acidity  citric acid  residual sugar  chlorides  \\\n",
       "0      -0.528360          0.961877    -1.391472       -0.453218  -0.243707   \n",
       "1      -0.298547          1.967442    -1.391472        0.043416   0.223875   \n",
       "2      -0.298547          1.297065    -1.186070       -0.169427   0.096353   \n",
       "3       1.654856         -1.384443     1.484154       -0.453218  -0.264960   \n",
       "4      -0.528360          0.961877    -1.391472       -0.453218  -0.243707   \n",
       "\n",
       "   free sulfur dioxide  total sulfur dioxide   density        pH  sulphates  \\\n",
       "0            -0.466193             -0.379133  0.558274  1.288643  -0.579207   \n",
       "1             0.872638              0.624363  0.028261 -0.719933   0.128950   \n",
       "2            -0.083669              0.229047  0.134264 -0.331177  -0.048089   \n",
       "3             0.107592              0.411500  0.664277 -0.979104  -0.461180   \n",
       "4            -0.466193             -0.379133  0.558274  1.288643  -0.579207   \n",
       "\n",
       "    alcohol  \n",
       "0 -0.960246  \n",
       "1 -0.584777  \n",
       "2 -0.584777  \n",
       "3 -0.584777  \n",
       "4 -0.960246  "
      ]
     },
     "execution_count": 93,
     "metadata": {},
     "output_type": "execute_result"
    }
   ],
   "source": [
    "df_new = pd.DataFrame(X_scaled, columns=X.columns)\n",
    "\n",
    "df_new.head(5)"
   ]
  },
  {
   "cell_type": "markdown",
   "metadata": {},
   "source": [
    "#### KNN Scaled vs Unscaled performance"
   ]
  },
  {
   "cell_type": "code",
   "execution_count": 94,
   "metadata": {
    "ExecuteTime": {
     "end_time": "2019-02-28T04:42:25.104785Z",
     "start_time": "2019-02-28T04:42:25.056736Z"
    }
   },
   "outputs": [
    {
     "name": "stdout",
     "output_type": "stream",
     "text": [
      "Unscaled Accuracy: 0.49375\n",
      "Scaled Accuracy: 0.61875\n"
     ]
    }
   ],
   "source": [
    "from sklearn.preprocessing import StandardScaler\n",
    "from sklearn.neighbors import KNeighborsClassifier\n",
    "from sklearn.model_selection import train_test_split\n",
    "import pandas as pd\n",
    "from sklearn.metrics import accuracy_score\n",
    "\n",
    "\n",
    "df = pd.read_csv('./data/red_wine_quality.csv', sep=';')\n",
    "\n",
    "X = df.drop(columns=['quality'])\n",
    "y = df['quality']\n",
    "\n",
    "scalar = StandardScaler()\n",
    "X_scaled = scalar.fit_transform(X)\n",
    "\n",
    "knn = KNeighborsClassifier()\n",
    "\n",
    "X_train, X_test, y_train, y_test = train_test_split(X, y, test_size=0.2, random_state=21)\n",
    "\n",
    "knn.fit(X_train, y_train)\n",
    "y_pred = knn.predict(X_test)\n",
    "\n",
    "print(f'Unscaled Accuracy: {accuracy_score(y_test, y_pred)}')\n",
    "\n",
    "X_train, X_test, y_train, y_test = train_test_split(X_scaled, y, test_size=0.2, random_state=21)\n",
    "\n",
    "knn_scaled = KNeighborsClassifier().fit(X_train, y_train)\n",
    "y_pred = knn_scaled.predict(X_test)\n",
    "\n",
    "print(f'Scaled Accuracy: {accuracy_score(y_test, y_pred)}')\n",
    "\n",
    "\n"
   ]
  },
  {
   "cell_type": "markdown",
   "metadata": {},
   "source": [
    "### OneHotEncoding of Categorical Feature Values"
   ]
  },
  {
   "cell_type": "markdown",
   "metadata": {},
   "source": [
    "Scikit-learn models need to have numeric values to operate on.  Categorical values such as strings, region = ['Asia', 'America', 'Europe'] need to be encoded as numbers.\n",
    "\n",
    "The way to handle this is to divide the values into binary values, called dummy variables also known as 'OneHotEncoding'.\n",
    "\n",
    "There are a couple of solutions to this problem:\n",
    "\n",
    "1) Use the pandas *get_dummies* function.  \n",
    "\n",
    "This is easy and straight forward but it cannot be used in a modeling pipeline ( discussed below )\n",
    "\n",
    "2) Use the Scikit-Learn *OneHotEncoder* \n",
    "\n",
    "However, this class requires the usage of *LabelEncoder* to turn the labels into numbers, before the *OneHotEncoder* can encode it.  \n",
    "\n",
    "This area of data preparation seems to be a little tricky.\n",
    "\n",
    "I have found a blog post that has created a custom transformer to wrap the Pandas *get_dummies*:\n",
    "\n",
    "[MasonGallo CategoricalWarrior](https://masongallo.github.io/machine/learning,/python/2017/10/07/machine-learning-pipelines.html)"
   ]
  },
  {
   "cell_type": "code",
   "execution_count": 95,
   "metadata": {
    "ExecuteTime": {
     "end_time": "2019-02-28T04:42:25.114057Z",
     "start_time": "2019-02-28T04:42:25.106450Z"
    }
   },
   "outputs": [
    {
     "data": {
      "text/html": [
       "<div>\n",
       "<style scoped>\n",
       "    .dataframe tbody tr th:only-of-type {\n",
       "        vertical-align: middle;\n",
       "    }\n",
       "\n",
       "    .dataframe tbody tr th {\n",
       "        vertical-align: top;\n",
       "    }\n",
       "\n",
       "    .dataframe thead th {\n",
       "        text-align: right;\n",
       "    }\n",
       "</style>\n",
       "<table border=\"1\" class=\"dataframe\">\n",
       "  <thead>\n",
       "    <tr style=\"text-align: right;\">\n",
       "      <th></th>\n",
       "      <th>Region</th>\n",
       "    </tr>\n",
       "  </thead>\n",
       "  <tbody>\n",
       "    <tr>\n",
       "      <th>0</th>\n",
       "      <td>Asia</td>\n",
       "    </tr>\n",
       "    <tr>\n",
       "      <th>1</th>\n",
       "      <td>Asia</td>\n",
       "    </tr>\n",
       "    <tr>\n",
       "      <th>2</th>\n",
       "      <td>America</td>\n",
       "    </tr>\n",
       "    <tr>\n",
       "      <th>3</th>\n",
       "      <td>Europe</td>\n",
       "    </tr>\n",
       "    <tr>\n",
       "      <th>4</th>\n",
       "      <td>America</td>\n",
       "    </tr>\n",
       "  </tbody>\n",
       "</table>\n",
       "</div>"
      ],
      "text/plain": [
       "    Region\n",
       "0     Asia\n",
       "1     Asia\n",
       "2  America\n",
       "3   Europe\n",
       "4  America"
      ]
     },
     "execution_count": 95,
     "metadata": {},
     "output_type": "execute_result"
    }
   ],
   "source": [
    "df = pd.DataFrame(['Asia', 'Asia', 'America', 'Europe','America'], columns=['Region'])\n",
    "df.head()"
   ]
  },
  {
   "cell_type": "code",
   "execution_count": 96,
   "metadata": {
    "ExecuteTime": {
     "end_time": "2019-02-28T04:42:25.125629Z",
     "start_time": "2019-02-28T04:42:25.115665Z"
    }
   },
   "outputs": [
    {
     "data": {
      "text/html": [
       "<div>\n",
       "<style scoped>\n",
       "    .dataframe tbody tr th:only-of-type {\n",
       "        vertical-align: middle;\n",
       "    }\n",
       "\n",
       "    .dataframe tbody tr th {\n",
       "        vertical-align: top;\n",
       "    }\n",
       "\n",
       "    .dataframe thead th {\n",
       "        text-align: right;\n",
       "    }\n",
       "</style>\n",
       "<table border=\"1\" class=\"dataframe\">\n",
       "  <thead>\n",
       "    <tr style=\"text-align: right;\">\n",
       "      <th></th>\n",
       "      <th>Region_Asia</th>\n",
       "      <th>Region_America</th>\n",
       "      <th>Region_Europe</th>\n",
       "    </tr>\n",
       "  </thead>\n",
       "  <tbody>\n",
       "    <tr>\n",
       "      <th>0</th>\n",
       "      <td>1</td>\n",
       "      <td>0</td>\n",
       "      <td>0</td>\n",
       "    </tr>\n",
       "    <tr>\n",
       "      <th>1</th>\n",
       "      <td>1</td>\n",
       "      <td>0</td>\n",
       "      <td>0</td>\n",
       "    </tr>\n",
       "    <tr>\n",
       "      <th>2</th>\n",
       "      <td>0</td>\n",
       "      <td>1</td>\n",
       "      <td>0</td>\n",
       "    </tr>\n",
       "    <tr>\n",
       "      <th>3</th>\n",
       "      <td>0</td>\n",
       "      <td>0</td>\n",
       "      <td>1</td>\n",
       "    </tr>\n",
       "    <tr>\n",
       "      <th>4</th>\n",
       "      <td>0</td>\n",
       "      <td>1</td>\n",
       "      <td>0</td>\n",
       "    </tr>\n",
       "  </tbody>\n",
       "</table>\n",
       "</div>"
      ],
      "text/plain": [
       "   Region_Asia  Region_America  Region_Europe\n",
       "0            1               0              0\n",
       "1            1               0              0\n",
       "2            0               1              0\n",
       "3            0               0              1\n",
       "4            0               1              0"
      ]
     },
     "execution_count": 96,
     "metadata": {},
     "output_type": "execute_result"
    }
   ],
   "source": [
    "df = pd.DataFrame([[1,0,0],\n",
    "                   [1,0,0],\n",
    "                   [0,1,0],\n",
    "                   [0,0,1],\n",
    "                   [0,1,0]], columns=['Region_Asia', 'Region_America', 'Region_Europe'])\n",
    "df.head()"
   ]
  },
  {
   "cell_type": "markdown",
   "metadata": {},
   "source": [
    "Once the values are encoded, you can actually remove one as if it is not any of the remaining then it is implied to be the removed value.  This is not necessary but it can help reduce model complexity by removing features that have no additional information.\n",
    "\n",
    "There are a couple of ways to one hot encode, using Pandas is one convenient way."
   ]
  },
  {
   "cell_type": "code",
   "execution_count": 97,
   "metadata": {
    "ExecuteTime": {
     "end_time": "2019-02-28T04:42:25.141135Z",
     "start_time": "2019-02-28T04:42:25.127245Z"
    }
   },
   "outputs": [
    {
     "data": {
      "text/html": [
       "<div>\n",
       "<style scoped>\n",
       "    .dataframe tbody tr th:only-of-type {\n",
       "        vertical-align: middle;\n",
       "    }\n",
       "\n",
       "    .dataframe tbody tr th {\n",
       "        vertical-align: top;\n",
       "    }\n",
       "\n",
       "    .dataframe thead th {\n",
       "        text-align: right;\n",
       "    }\n",
       "</style>\n",
       "<table border=\"1\" class=\"dataframe\">\n",
       "  <thead>\n",
       "    <tr style=\"text-align: right;\">\n",
       "      <th></th>\n",
       "      <th>Region_America</th>\n",
       "      <th>Region_Asia</th>\n",
       "      <th>Region_Europe</th>\n",
       "    </tr>\n",
       "  </thead>\n",
       "  <tbody>\n",
       "    <tr>\n",
       "      <th>0</th>\n",
       "      <td>0</td>\n",
       "      <td>1</td>\n",
       "      <td>0</td>\n",
       "    </tr>\n",
       "    <tr>\n",
       "      <th>1</th>\n",
       "      <td>0</td>\n",
       "      <td>1</td>\n",
       "      <td>0</td>\n",
       "    </tr>\n",
       "    <tr>\n",
       "      <th>2</th>\n",
       "      <td>1</td>\n",
       "      <td>0</td>\n",
       "      <td>0</td>\n",
       "    </tr>\n",
       "    <tr>\n",
       "      <th>3</th>\n",
       "      <td>0</td>\n",
       "      <td>0</td>\n",
       "      <td>1</td>\n",
       "    </tr>\n",
       "    <tr>\n",
       "      <th>4</th>\n",
       "      <td>1</td>\n",
       "      <td>0</td>\n",
       "      <td>0</td>\n",
       "    </tr>\n",
       "  </tbody>\n",
       "</table>\n",
       "</div>"
      ],
      "text/plain": [
       "   Region_America  Region_Asia  Region_Europe\n",
       "0               0            1              0\n",
       "1               0            1              0\n",
       "2               1            0              0\n",
       "3               0            0              1\n",
       "4               1            0              0"
      ]
     },
     "execution_count": 97,
     "metadata": {},
     "output_type": "execute_result"
    }
   ],
   "source": [
    "df = pd.DataFrame(['Asia', 'Asia', 'America', 'Europe','America'], columns=['Region'])\n",
    "df_dummies = pd.get_dummies(df)\n",
    "df_dummies.head()"
   ]
  },
  {
   "cell_type": "markdown",
   "metadata": {},
   "source": [
    "## Model Tuning"
   ]
  },
  {
   "cell_type": "markdown",
   "metadata": {},
   "source": [
    "### Model Evaluation Metrics\n",
    "\n",
    "- **Regression problems:** Mean Absolute Error, Mean Squared Error, Root Mean Squared Error\n",
    "- **Classification problems:** Classification accuracy\n",
    "\n",
    "This section covers:\n",
    "- Accuracy\n",
    "- confusion matrix\n",
    "- ROC/AUC Curves\n",
    "\n"
   ]
  },
  {
   "cell_type": "markdown",
   "metadata": {},
   "source": [
    "#### Classification Accuracy\n",
    "\n",
    "The number of correct classifications divided by the total.\n",
    "\n",
    "This metric does not always tell the entire story.  \n",
    "\n",
    "**<font size=\"3\">Imbalanced Data Sets</font>**\n",
    "\n",
    "If we are trying to detect Spam emails, and our data set has 99% true emails and 1% spam emails and we always predict true emails, then our model will have an accuracy of 99%.  \n",
    "\n",
    "Which seems great - except - we **never** predict spam email.  Classification accuracy also does not tell you what type of errors the model is making.\n",
    "\n",
    "Datasets with class imbalance are frequent and there are other measures to consider.\n",
    "\n",
    "**<font size=\"3\">Confusion Matrix</font>**"
   ]
  },
  {
   "cell_type": "markdown",
   "metadata": {},
   "source": [
    "![Small confusion matrix](./images/09_confusion_matrix_1.png)"
   ]
  },
  {
   "cell_type": "markdown",
   "metadata": {},
   "source": [
    "**Basic terminology**\n",
    "\n",
    "- **True Positives (TP):** we *correctly* predicted that they *do* have diabetes\n",
    "- **True Negatives (TN):** we *correctly* predicted that they *don't* have diabetes\n",
    "- **False Positives (FP):** we *incorrectly* predicted that they *do* have diabetes (a \"Type I error\")\n",
    "- **False Negatives (FN):** we *incorrectly* predicted that they *don't* have diabetes (a \"Type II error\")"
   ]
  },
  {
   "cell_type": "markdown",
   "metadata": {},
   "source": [
    "![Large confusion matrix](images/09_confusion_matrix_2.png)"
   ]
  },
  {
   "cell_type": "markdown",
   "metadata": {},
   "source": [
    "- Classification Accuracy = (TP+TN)/(TP+TN+FP+FN)\n",
    "\n",
    "- Recall/Sensitivity : When the actual value is positive, how often is the prediction correct\n",
    "\n",
    "recall = TP/(TP+FN)\n",
    "\n",
    "FP |recall threshold| FN\n",
    "\n",
    "The higher the recall value, closer to 1, then fewer false negatives are predicted\n",
    "\n",
    "- Precision: When a positive value is predicted, how often is the actual value positive, or how often is the prediction correct.\n",
    "\n",
    "precision = TP /(TP+FP)\n",
    "\n",
    "The higher the precision, closer to 1, then fewer false positives are predicted\n",
    "\n",
    "It is a balance between precision and recall and how you balance depends upon the problem.\n",
    "\n",
    "**Conclusion:**\n",
    "\n",
    "- Confusion matrix gives you a **more complete picture** of how your classifier is performing\n",
    "- Also allows you to compute various **classification metrics**, and these metrics can guide your model selection\n",
    "\n",
    "**Which metrics should you focus on?**\n",
    "\n",
    "- Choice of metric depends on your **business objective**\n",
    "- **Spam filter** (positive class is \"spam\"): Optimize for **precision or specificity** because false negatives (spam goes to the inbox) are more acceptable than false positives (non-spam is caught by the spam filter)\n",
    "- **Fraudulent transaction detector** (positive class is \"fraud\"): Optimize for **sensitivity** because false positives (normal transactions that are flagged as possible fraud) are more acceptable than false negatives (fraudulent transactions that are not detected)"
   ]
  },
  {
   "cell_type": "markdown",
   "metadata": {},
   "source": [
    "Scikit-learn has the following function to measure classification accuracy\n",
    "\n",
    "- classification_report(y_test, y_predicted)\n",
    "\n",
    "The classification report will provide precision, recall, f1 and other metrics.\n",
    "\n",
    "- accuracy_score(y_test, y_predicted)\n",
    "\n"
   ]
  },
  {
   "cell_type": "markdown",
   "metadata": {},
   "source": [
    "#### Helper function to pretty print the confusion matrix"
   ]
  },
  {
   "cell_type": "code",
   "execution_count": 98,
   "metadata": {
    "ExecuteTime": {
     "end_time": "2019-02-28T04:42:25.151835Z",
     "start_time": "2019-02-28T04:42:25.142905Z"
    }
   },
   "outputs": [],
   "source": [
    "def print_cm(cm, labels, hide_zeroes=False, hide_diagonal=False, hide_threshold=None):\n",
    "    \"\"\"pretty print for confusion matrixes\"\"\"\n",
    "    columnwidth = max([len(x) for x in labels] + [5])  # 5 is value length\n",
    "    empty_cell = \" \" * columnwidth\n",
    "    \n",
    "    # Begin CHANGES\n",
    "    fst_empty_cell = (columnwidth-3)//2 * \" \" + \"t/p\" + (columnwidth-3)//2 * \" \"\n",
    "    \n",
    "    if len(fst_empty_cell) < len(empty_cell):\n",
    "        fst_empty_cell = \" \" * (len(empty_cell) - len(fst_empty_cell)) + fst_empty_cell\n",
    "    # Print header\n",
    "    print(\"    \" + fst_empty_cell, end=\" \")\n",
    "    # End CHANGES\n",
    "    \n",
    "    for label in labels:\n",
    "        print(\"%{0}s\".format(columnwidth) % label, end=\" \")\n",
    "        \n",
    "    print()\n",
    "    # Print rows\n",
    "    for i, label1 in enumerate(labels):\n",
    "        print(\"    %{0}s\".format(columnwidth) % label1, end=\" \")\n",
    "        for j in range(len(labels)):\n",
    "            cell = \"%{0}.1f\".format(columnwidth) % cm[i, j]\n",
    "            if hide_zeroes:\n",
    "                cell = cell if float(cm[i, j]) != 0 else empty_cell\n",
    "            if hide_diagonal:\n",
    "                cell = cell if i != j else empty_cell\n",
    "            if hide_threshold:\n",
    "                cell = cell if cm[i, j] > hide_threshold else empty_cell\n",
    "            print(cell, end=\" \")\n",
    "        print()"
   ]
  },
  {
   "cell_type": "code",
   "execution_count": 99,
   "metadata": {
    "ExecuteTime": {
     "end_time": "2019-02-28T04:42:25.194941Z",
     "start_time": "2019-02-28T04:42:25.153999Z"
    }
   },
   "outputs": [
    {
     "name": "stdout",
     "output_type": "stream",
     "text": [
      "Possible quality values: [5 6 7 4 8 3]\n",
      "Scaled Accuracy: 0.61875\n",
      "Classification Report:\n",
      "               precision    recall  f1-score   support\n",
      "\n",
      "           3       0.00      0.00      0.00         1\n",
      "           4       0.33      0.06      0.11        16\n",
      "           5       0.63      0.74      0.68       127\n",
      "           6       0.62      0.63      0.62       131\n",
      "           7       0.62      0.50      0.55        42\n",
      "           8       0.00      0.00      0.00         3\n",
      "\n",
      "   micro avg       0.62      0.62      0.62       320\n",
      "   macro avg       0.37      0.32      0.33       320\n",
      "weighted avg       0.60      0.62      0.60       320\n",
      "\n",
      "Confusion Matrix:\n",
      "[[ 0  0  1  0  0  0]\n",
      " [ 0  1  8  7  0  0]\n",
      " [ 0  1 94 31  1  0]\n",
      " [ 0  1 38 82 10  0]\n",
      " [ 0  0  9 12 21  0]\n",
      " [ 0  0  0  1  2  0]]\n",
      "     t/p      3     4     5     6     7     8 \n",
      "        3   0.0   0.0   1.0   0.0   0.0   0.0 \n",
      "        4   0.0   1.0   8.0   7.0   0.0   0.0 \n",
      "        5   0.0   1.0  94.0  31.0   1.0   0.0 \n",
      "        6   0.0   1.0  38.0  82.0  10.0   0.0 \n",
      "        7   0.0   0.0   9.0  12.0  21.0   0.0 \n",
      "        8   0.0   0.0   0.0   1.0   2.0   0.0 \n"
     ]
    },
    {
     "name": "stderr",
     "output_type": "stream",
     "text": [
      "/Users/patrickryan/Development/python/mygithub/supervised-machine-learning-with-scikit-learn/venv/lib/python3.6/site-packages/sklearn/metrics/classification.py:1143: UndefinedMetricWarning: Precision and F-score are ill-defined and being set to 0.0 in labels with no predicted samples.\n",
      "  'precision', 'predicted', average, warn_for)\n"
     ]
    }
   ],
   "source": [
    "from sklearn.preprocessing import StandardScaler\n",
    "from sklearn.neighbors import KNeighborsClassifier\n",
    "from sklearn.model_selection import train_test_split\n",
    "import pandas as pd\n",
    "from sklearn.metrics import accuracy_score, classification_report, confusion_matrix\n",
    "\n",
    "\n",
    "df = pd.read_csv('./data/red_wine_quality.csv', sep=';')\n",
    "\n",
    "X = df.drop(columns=['quality'])\n",
    "y = df['quality']\n",
    "\n",
    "print(f'Possible quality values: {y.unique()}')\n",
    "scalar = StandardScaler()\n",
    "X_scaled = scalar.fit_transform(X)\n",
    "\n",
    "knn = KNeighborsClassifier()\n",
    "\n",
    "X_train, X_test, y_train, y_test = train_test_split(X_scaled, y, test_size=0.2, random_state=21)\n",
    "\n",
    "knn_scaled = KNeighborsClassifier().fit(X_train, y_train)\n",
    "y_pred = knn_scaled.predict(X_test)\n",
    "\n",
    "print(f'Scaled Accuracy: {accuracy_score(y_test, y_pred)}')\n",
    "print(f'Classification Report:\\n {classification_report(y_test, y_pred)}')\n",
    "cm = confusion_matrix(y_test, y_pred)\n",
    "print(f'Confusion Matrix:\\n{cm}')\n",
    "print_cm(cm, ['3','4','5','6','7','8'])\n",
    "\n"
   ]
  },
  {
   "cell_type": "markdown",
   "metadata": {},
   "source": [
    "#### ROC Curves and Area Under the Curve (AUC)\n",
    "\n",
    "- Receiver Operating Curve\n",
    "\n",
    "- Area under the Curve ( ROC )\n",
    "\n",
    "**Question:** Wouldn't it be nice if we could see how sensitivity and specificity are affected by various thresholds, without actually changing the threshold?\n",
    "\n",
    "**Answer:** Plot the ROC curve!\n",
    "\n",
    "AUC is the **percentage** of the ROC plot that is **underneath the curve**:\n",
    "\n",
    "- AUC is useful as a **single number summary** of classifier performance.\n",
    "- If you randomly chose one positive and one negative observation, AUC represents the likelihood that your classifier will assign a **higher predicted probability** to the positive observation.\n",
    "- AUC is useful even when there is **high class imbalance** (unlike classification accuracy).\n",
    "\n",
    "\n",
    "The ROC/AUC uses the predict_proba values from a Binary Classifier.\n"
   ]
  },
  {
   "cell_type": "markdown",
   "metadata": {},
   "source": [
    "#### ROC/AUC LogisticRegression Examples"
   ]
  },
  {
   "cell_type": "code",
   "execution_count": 100,
   "metadata": {
    "ExecuteTime": {
     "end_time": "2019-02-28T04:42:25.214637Z",
     "start_time": "2019-02-28T04:42:25.196643Z"
    }
   },
   "outputs": [],
   "source": [
    "from sklearn.metrics import roc_curve, roc_auc_score\n",
    "from sklearn.linear_model import LogisticRegression\n",
    "\n",
    "df = pd.read_csv('./data/diabetes.csv')\n",
    "X = df.drop(columns=['diabetes'])\n",
    "y = df['diabetes']\n",
    "\n",
    "X_train, X_test, y_train, y_test = train_test_split(X,y, random_state=11)\n",
    "logreg = LogisticRegression(solver='liblinear')\n",
    "logreg.fit(X_train,y_train)\n",
    "\n",
    "y_pred_prob = logreg.predict_proba(X_test)\n"
   ]
  },
  {
   "cell_type": "code",
   "execution_count": 101,
   "metadata": {
    "ExecuteTime": {
     "end_time": "2019-02-28T04:42:25.414592Z",
     "start_time": "2019-02-28T04:42:25.216320Z"
    }
   },
   "outputs": [
    {
     "data": {
      "image/png": "[encoded data removed]",
      "text/plain": [
       "<Figure size 432x288 with 1 Axes>"
      ]
     },
     "metadata": {},
     "output_type": "display_data"
    }
   ],
   "source": [
    "# IMPORTANT: first argument is true values, second argument is predicted probabilities\n",
    "# y_pred_prob[:,1] = predicted probabilities for the '1' class or predicted cancer\n",
    "fpr, tpr, thresholds = roc_curve(y_test, y_pred_prob[:,1])\n",
    "plt.plot(fpr, tpr)\n",
    "plt.xlim([0.0, 1.0])\n",
    "plt.ylim([0.0, 1.0])\n",
    "plt.title('ROC curve for diabetes classifier')\n",
    "plt.xlabel('False Positive Rate (1 - Specificity)')\n",
    "plt.ylabel('True Positive Rate (Sensitivity)')\n",
    "plt.grid(True)"
   ]
  },
  {
   "cell_type": "code",
   "execution_count": 102,
   "metadata": {
    "ExecuteTime": {
     "end_time": "2019-02-28T04:42:25.422673Z",
     "start_time": "2019-02-28T04:42:25.416553Z"
    }
   },
   "outputs": [
    {
     "name": "stdout",
     "output_type": "stream",
     "text": [
      "0.81998556998557\n"
     ]
    }
   ],
   "source": [
    "print(roc_auc_score(y_test, y_pred_prob[:,1]))"
   ]
  },
  {
   "cell_type": "markdown",
   "metadata": {},
   "source": [
    "### Cross Validation"
   ]
  },
  {
   "cell_type": "markdown",
   "metadata": {},
   "source": [
    "#### Review of model evaluation procedures"
   ]
  },
  {
   "cell_type": "markdown",
   "metadata": {},
   "source": [
    "**Motivation:** Need a way to choose between machine learning models\n",
    "\n",
    "- Goal is to estimate likely performance of a model on **out-of-sample data**\n",
    "\n",
    "**Train/test split**\n",
    "\n",
    "- Split the dataset into two pieces, so that the model can be trained and tested on **different data**\n",
    "- **Testing accuracy** is a better estimate than training accuracy of out-of-sample performance\n",
    "\n",
    "<font size=\"3\">Problems with Train/Test Split</font>\n",
    "\n",
    "- Provides a **high variance** estimate since changing which observations happen to be in the testing set can significantly change testing accuracy\n",
    "\n",
    "- The reason for **high variance** is that *train-test-split* takes one random sample of the data to perfom the split\n",
    "\n",
    "- The next time you run *train-test-split* you will get a new data set and a new accuracy\n",
    "  \n",
    "- To get a better idea of how a model performs, you would want to take many samples to train and test on.\n",
    "\n",
    "\n"
   ]
  },
  {
   "cell_type": "markdown",
   "metadata": {},
   "source": [
    "#### K-Fold Cross Validation\n",
    "\n",
    "Cross-validation is a statitical method of evaluating generalization performance of a model, that is more accurate than just train_test_split.\n",
    "\n",
    "K-Fold Cross Validation will split a dataset up into a number of different training sets and testing sets to provide you with a better idea of how the model will generalize to unseen data.  "
   ]
  },
  {
   "cell_type": "markdown",
   "metadata": {},
   "source": [
    "1. Split the dataset into K **equal** partitions (or \"folds\").\n",
    "2. Use fold 1 as the **testing set** and the union of the other folds as the **training set**.\n",
    "3. Calculate **testing accuracy**.\n",
    "4. Repeat steps 2 and 3 K times, using a **different fold** as the testing set each time.\n",
    "5. Use the **average testing accuracy** as the estimate of out-of-sample accuracy."
   ]
  },
  {
   "cell_type": "markdown",
   "metadata": {},
   "source": [
    "#### 5-Fold cross validation\n",
    "\n",
    "<font size=\"3\">Cross-validation for more robust estimates<font>\n",
    "\n",
    "\n",
    "![cross-validation](./images/cross_validation.svg)"
   ]
  },
  {
   "cell_type": "markdown",
   "metadata": {},
   "source": [
    "- Dataset contains **25 observations** (numbered 0 through 24)\n",
    "- 5-fold cross-validation, thus it runs for **5 iterations**\n",
    "- For each iteration, every observation is either in the training set or the testing set, **but not both**\n",
    "- Every observation is in the testing set **exactly once**"
   ]
  },
  {
   "cell_type": "markdown",
   "metadata": {},
   "source": [
    "Instead of using Scikit-learn's *train_test_split* we can use *cross_val_score*."
   ]
  },
  {
   "cell_type": "markdown",
   "metadata": {},
   "source": [
    "#### K-Fold Cross Validation Example"
   ]
  },
  {
   "cell_type": "code",
   "execution_count": 103,
   "metadata": {
    "ExecuteTime": {
     "end_time": "2019-02-28T04:42:25.439094Z",
     "start_time": "2019-02-28T04:42:25.424988Z"
    }
   },
   "outputs": [
    {
     "name": "stdout",
     "output_type": "stream",
     "text": [
      "(139,)\n",
      "(139, 8)\n",
      "   population  fertility  HIV        CO2  BMI_male      GDP  BMI_female  life  \\\n",
      "0  34811059.0       2.73  0.1   3.328945  24.59620  12314.0    129.9049  75.3   \n",
      "1  19842251.0       6.43  2.0   1.474353  22.25083   7103.0    130.1247  58.3   \n",
      "2  40381860.0       2.24  0.5   4.785170  27.50170  14646.0    118.8915  75.5   \n",
      "3   2975029.0       1.40  0.1   1.804106  25.35542   7383.0    132.8108  72.5   \n",
      "4  21370348.0       1.96  0.1  18.016313  27.56373  41312.0    117.3755  81.5   \n",
      "\n",
      "   child_mortality                      Region  \n",
      "0             29.5  Middle East & North Africa  \n",
      "1            192.0          Sub-Saharan Africa  \n",
      "2             15.4                     America  \n",
      "3             20.0       Europe & Central Asia  \n",
      "4              5.2         East Asia & Pacific  \n"
     ]
    }
   ],
   "source": [
    "import numpy as np\n",
    "import pandas as pd\n",
    "from sklearn.linear_model import LinearRegression\n",
    "from sklearn.model_selection import train_test_split, cross_val_score\n",
    "\n",
    "\n",
    "\"\"\"\n",
    "Linear Regression\n",
    "\n",
    "predict life expectancy in a given country based on features such as GDP\n",
    "\n",
    "\"\"\"\n",
    "\n",
    "df = pd.read_csv('./data/gapminder.csv')\n",
    "y = df['life']\n",
    "# remove life as that this the target\n",
    "# remove Region as that is not numeric\n",
    "X = df.drop(columns=['life', 'Region'])\n",
    "\n",
    "print(y.shape)\n",
    "print(X.shape)\n",
    "\n",
    "print(df.head())"
   ]
  },
  {
   "cell_type": "code",
   "execution_count": 104,
   "metadata": {
    "ExecuteTime": {
     "end_time": "2019-02-28T04:42:25.463095Z",
     "start_time": "2019-02-28T04:42:25.441215Z"
    }
   },
   "outputs": [
    {
     "name": "stdout",
     "output_type": "stream",
     "text": [
      "[0.81720569 0.82917058 0.90214134 0.80633989 0.94495637]\n",
      "Average R^2 5-Fold CV Score: 0.8599627722793229\n"
     ]
    }
   ],
   "source": [
    "# Create the regressor: reg_all\n",
    "reg = LinearRegression()\n",
    "\n",
    "cv_scores = cross_val_score(reg, X, y, cv=5 )\n",
    "print(cv_scores)\n",
    "print(\"Average R^2 5-Fold CV Score: {}\".format(np.mean(cv_scores)))\n",
    "\n"
   ]
  },
  {
   "cell_type": "markdown",
   "metadata": {},
   "source": [
    "CrossValidation gives us a better idea of how the model behaves across the entire dataset."
   ]
  },
  {
   "cell_type": "markdown",
   "metadata": {},
   "source": [
    "#### Hold Out Set with train_test_split and CrossValidation"
   ]
  },
  {
   "cell_type": "markdown",
   "metadata": {},
   "source": [
    "CrossValidation is a great way to get a sense for how the model performs across the dataset.  However, we still want to measure the model performance on data that the model has never seen.\n",
    "\n",
    "This is where the ***hold out*** dataset comes in.  To get a *hold out* dataset, we will use **train_test_split** and then call **cross_val_score** on the training dataset, and predict on the test set."
   ]
  },
  {
   "cell_type": "code",
   "execution_count": 105,
   "metadata": {
    "ExecuteTime": {
     "end_time": "2019-02-28T04:42:25.487658Z",
     "start_time": "2019-02-28T04:42:25.464272Z"
    }
   },
   "outputs": [
    {
     "name": "stdout",
     "output_type": "stream",
     "text": [
      "[0.83494035 0.83318648 0.85838446 0.91874003 0.83893236]\n",
      "Average R^2 5-Fold CV Score: 0.8568367353176309\n",
      "Holdout R^2 score: 0.8714304263480444\n"
     ]
    }
   ],
   "source": [
    "import numpy as np\n",
    "import pandas as pd\n",
    "from sklearn.linear_model import LinearRegression\n",
    "from sklearn.model_selection import train_test_split, cross_val_score\n",
    "\n",
    "\n",
    "\"\"\"\n",
    "Linear Regression\n",
    "\n",
    "predict life expectancy in a given country based on features such as GDP\n",
    "\n",
    "\"\"\"\n",
    "\n",
    "df = pd.read_csv('./data/gapminder.csv')\n",
    "y = df['life']\n",
    "# remove life as that this the target\n",
    "# remove Region as that is not numeric\n",
    "X = df.drop(columns=['life', 'Region'])\n",
    "\n",
    "# X_test, y_test will be the holdout sets\n",
    "X_train, X_test, y_train, y_test = train_test_split(X, y, test_size=0.2, random_state=21)\n",
    "\n",
    "# Create the regressor: reg_all\n",
    "reg = LinearRegression()\n",
    "\n",
    "cv_scores = cross_val_score(reg, X_train, y_train, cv=5 )\n",
    "print(cv_scores)\n",
    "print(\"Average R^2 5-Fold CV Score: {}\".format(np.mean(cv_scores)))\n",
    "\n",
    "reg.fit(X_train, y_train)\n",
    "print(f'Holdout R^2 score: {reg.score(X_test, y_test)}')"
   ]
  },
  {
   "cell_type": "markdown",
   "metadata": {},
   "source": [
    "### GridSearchCV and Hyperparameter Tuning"
   ]
  },
  {
   "cell_type": "markdown",
   "metadata": {},
   "source": [
    "How do you determine the best parameters for a model?  Some models have a large number of possible parameters.\n",
    "\n",
    "This is where Scikit-learn's **GridSearchCV** comes into play.\n",
    "\n",
    "<font size=\"3\">GridSearchCV</font>\n",
    "\n",
    "Allows use to define a grid of parameters that will be searched using K-Fold crossvalidation to determine the best set of possible parameters.  \n",
    "\n",
    "This can be a very compute intensive operation, which is why we would like to specify a grid of all possible combinations for parameters, let it run, and come back later to see the results.\n",
    "\n",
    "As we talked about above, you will want to create a hold-out dataset, and perform the *GridSearchCV* on the remaining training dataset."
   ]
  },
  {
   "cell_type": "markdown",
   "metadata": {},
   "source": [
    "#### GridSearchCV\n",
    "\n",
    "This function will take a model, a parameter dictionary of all of the parameters to try and the cross fold to find the best combination of model parameters.\n",
    "\n",
    "In this example, we are creating a parameter dictionary with just the *n_neighbors* parameter with the values 1 to 30.  GridSearchCV will use this to perform the model evaluation and find the best model based on the scoring parameter which we have set to *accuracy*\n",
    "\n",
    "Recall that the *CrossValidation* will either be a StratifiedCrossValidation for Classification models, or a K-Fold CrossValidation for Regression models"
   ]
  },
  {
   "cell_type": "markdown",
   "metadata": {},
   "source": [
    "#### GridSearchCV for KNN model to find the best n_neighbors for Iris"
   ]
  },
  {
   "cell_type": "code",
   "execution_count": 106,
   "metadata": {
    "ExecuteTime": {
     "end_time": "2019-02-28T04:42:26.641669Z",
     "start_time": "2019-02-28T04:42:25.489224Z"
    }
   },
   "outputs": [
    {
     "name": "stdout",
     "output_type": "stream",
     "text": [
      "0.9583333333333334\n",
      "{'n_neighbors': 7, 'weights': 'distance'}\n",
      "KNeighborsClassifier(algorithm='auto', leaf_size=30, metric='minkowski',\n",
      "           metric_params=None, n_jobs=None, n_neighbors=7, p=2,\n",
      "           weights='distance')\n",
      "Hold Out Score: 1.0\n"
     ]
    },
    {
     "name": "stderr",
     "output_type": "stream",
     "text": [
      "/Users/patrickryan/Development/python/mygithub/supervised-machine-learning-with-scikit-learn/venv/lib/python3.6/site-packages/sklearn/model_selection/_search.py:841: DeprecationWarning: The default of the `iid` parameter will change from True to False in version 0.22 and will be removed in 0.24. This will change numeric results when test-set sizes are unequal.\n",
      "  DeprecationWarning)\n"
     ]
    }
   ],
   "source": [
    "import pandas as pd\n",
    "import numpy as np\n",
    "from sklearn import datasets\n",
    "from sklearn.neighbors import KNeighborsClassifier\n",
    "import numpy as np\n",
    "from sklearn.model_selection import GridSearchCV\n",
    "\n",
    "iris = datasets.load_iris()\n",
    "X = iris.data\n",
    "y = iris.target\n",
    "\n",
    "# create a parameter grid for the n_neighbors KNN parameter, that will check\n",
    "# every value from 1 to 31, and each of the weights as either uniform or distance\n",
    "# for a total of 60 combinations\n",
    "param_grid = dict(n_neighbors=list(range(1,31)), weights=['uniform', 'distance'])\n",
    "\n",
    "grid = GridSearchCV(KNeighborsClassifier(), param_grid, cv=5)\n",
    "\n",
    "X_train, X_test, y_train, y_test = train_test_split(X,y, test_size=0.2)\n",
    "\n",
    "# fit method will go through all of the possible combinations in the parameter grid\n",
    "grid.fit(X_train, y_train)\n",
    "\n",
    "# examine the best model\n",
    "print(grid.best_score_)\n",
    "print(grid.best_params_)\n",
    "print(grid.best_estimator_)\n",
    "\n",
    "score_with_best_model = grid.score(X_test, y_test)\n",
    "print(f'Hold Out Score: {score_with_best_model}')\n"
   ]
  },
  {
   "cell_type": "markdown",
   "metadata": {},
   "source": [
    "#### RandomizedSearchCV with a DecisionTree"
   ]
  },
  {
   "cell_type": "markdown",
   "metadata": {},
   "source": [
    "RandomizedSearchCV is similar to GridSearchCV except it will take a random sampling of the possible set of parameters.  This is very helpful if the number of combinations of possible parameters is very large the time to calculate all of the possible model variables takes too long."
   ]
  },
  {
   "cell_type": "code",
   "execution_count": 107,
   "metadata": {
    "ExecuteTime": {
     "end_time": "2019-02-28T04:42:26.854429Z",
     "start_time": "2019-02-28T04:42:26.643413Z"
    }
   },
   "outputs": [
    {
     "name": "stdout",
     "output_type": "stream",
     "text": [
      "Tuned Decision Tree Parameters: {'criterion': 'gini', 'max_depth': 3, 'max_features': 5, 'min_samples_leaf': 8}\n",
      "Best score is 0.7330729166666666\n"
     ]
    }
   ],
   "source": [
    "# Import necessary modules\n",
    "from scipy.stats import randint\n",
    "from sklearn.tree import DecisionTreeClassifier\n",
    "from sklearn.model_selection import RandomizedSearchCV\n",
    "import pandas as pd\n",
    "\n",
    "\n",
    "df = pd.read_csv('./data/diabetes.csv')\n",
    "\n",
    "X = df.drop(columns=['diabetes'])\n",
    "y = df['diabetes']\n",
    "\n",
    "# Setup the parameters and distributions to sample from: param_dist\n",
    "param_dist = {\"max_depth\": [3, None],\n",
    "              \"max_features\": randint(1, 9),\n",
    "              \"min_samples_leaf\": randint(1, 9),\n",
    "              \"criterion\": [\"gini\", \"entropy\"]}\n",
    "\n",
    "# Instantiate a Decision Tree classifier: tree\n",
    "tree = DecisionTreeClassifier()\n",
    "\n",
    "# Instantiate the RandomizedSearchCV object: tree_cv\n",
    "tree_cv = RandomizedSearchCV(tree, param_dist, cv=5)\n",
    "\n",
    "# Fit it to the data\n",
    "tree_cv.fit(X,y)\n",
    "\n",
    "# Print the tuned parameters and score\n",
    "print(\"Tuned Decision Tree Parameters: {}\".format(tree_cv.best_params_))\n",
    "print(\"Best score is {}\".format(tree_cv.best_score_))\n"
   ]
  },
  {
   "cell_type": "markdown",
   "metadata": {},
   "source": [
    "## Model Pipelines"
   ]
  },
  {
   "cell_type": "markdown",
   "metadata": {},
   "source": [
    "![Pipeline](images/rye-jessen-1147042-unsplash.jpg)"
   ]
  },
  {
   "cell_type": "markdown",
   "metadata": {},
   "source": [
    "Model pipelines are used to create a multi-step processing pipeline. The pipeline will be able to preprocess the dataset, and execute a Supervised Machine Learning Model.\n",
    "\n",
    "We will also use the Pipeline along with GridSearchCV to determine the optimal parameters for the given dataset, preprocessing steps and selected model.\n",
    "\n"
   ]
  },
  {
   "cell_type": "markdown",
   "metadata": {},
   "source": [
    "### Creating a Pipeline\n"
   ]
  },
  {
   "cell_type": "markdown",
   "metadata": {},
   "source": [
    "There are two ways to create a pipeline in Scikit-learn\n",
    "\n",
    "Option 1:\n",
    "```python\n",
    "from sklearn.pipeline import Pipeline\n",
    "pipeline = Pipeline([\n",
    "    'scaler': SimpleScaler(),\n",
    "    'clf', MultinomialNB()\n",
    "])\n",
    "```\n",
    "\n",
    "This approach lets the developer name the elements in the pipeline for later retrieval.\n",
    "\n",
    "Option 2:\n",
    "```python\n",
    "from sklearn.pipeline import make_pipeline\n",
    "pipeline = make_pipeline(SimpleScaler(),MultinomialNB())\n",
    "```\n",
    "\n",
    "The pipeline will assume names with lowercase letters of the classes.  Option 2 is equivalent to:\n",
    "```python\n",
    "from sklearn.pipeline import Pipeline\n",
    "pipeline = Pipeline([\n",
    "    'simplescaler': SimpleScaler(),\n",
    "    'multinomialnb', MultinomialNB()\n",
    "])\n",
    "```\n",
    "\n",
    "It is important to note that the classes in the pipeline must implement either the transformer API or the estimator API and the last element in the pipeline **must** be an estimator.\n",
    "\n"
   ]
  },
  {
   "cell_type": "markdown",
   "metadata": {},
   "source": [
    "#### Revisit OneHotEncoding and Pipelines"
   ]
  },
  {
   "cell_type": "markdown",
   "metadata": {},
   "source": [
    "Recall from the DataPreparation section, we talked about OneHotEncoding, and that the Pandas *get_dummies* was not pipeline friendly.\n",
    "\n",
    "In that section I linked to a blog where the person created a custom transformer that was pipeline friendly.  I am including that here in this section as a good example of how to write a custom transformer, but to also show a more complicated processing pipeline in action."
   ]
  },
  {
   "cell_type": "code",
   "execution_count": 108,
   "metadata": {
    "ExecuteTime": {
     "end_time": "2019-02-28T04:42:26.860903Z",
     "start_time": "2019-02-28T04:42:26.855708Z"
    }
   },
   "outputs": [],
   "source": [
    "from pandas import Categorical, get_dummies\n",
    "from sklearn.base import TransformerMixin, BaseEstimator\n",
    "\n",
    "\"\"\"\n",
    "https://masongallo.github.io/machine/learning,/python/2017/10/07/machine-learning-pipelines.html\n",
    "\"\"\"\n",
    "\n",
    "class CategoricalWarrior(BaseEstimator, TransformerMixin):\n",
    "    \"\"\"One hot encoder for all categorical features\"\"\"\n",
    "    def __init__(self, attribute_names):\n",
    "        self.attribute_names = attribute_names\n",
    "\n",
    "    def fit(self, X, y=None):\n",
    "        cats = {}\n",
    "        for column in self.attribute_names:\n",
    "            cats[column] = X[column].unique().tolist()\n",
    "        self.categoricals = cats\n",
    "        return self\n",
    "\n",
    "    def transform(self, X, y=None):\n",
    "        df = X.copy()\n",
    "        for column in self.attribute_names:\n",
    "            df[column] = Categorical(df[column], categories=self.categoricals[column])\n",
    "        new_df = get_dummies(df, drop_first=True)\n",
    "        # in case we need them later\n",
    "        self.columns = new_df.columns\n",
    "        return new_df\n"
   ]
  },
  {
   "cell_type": "markdown",
   "metadata": {},
   "source": [
    "However, to be able to Scale some features and OneHotEncode other features requires the use of a FeatureUnion which is out of the scope of this notebook."
   ]
  },
  {
   "cell_type": "markdown",
   "metadata": {},
   "source": [
    "#### Classification Pipeline"
   ]
  },
  {
   "cell_type": "markdown",
   "metadata": {},
   "source": [
    "This section is going bring all of the elements so far into a single modeling pipeline.  \n",
    "\n",
    "Specifically this section will:\n",
    "\n",
    "1) Read in the diabetes.csv data\n",
    "\n",
    "2) Replace the zeros with Nan\n",
    "\n",
    "3) Create a hold out set with train_test_split\n",
    "\n",
    "4) Create a pipeline with a SimpleImputer to fill in Nan and a LogisticRegression model\n",
    "\n",
    "5) Setup a GridSearchCV to find the best set of parameters for:\n",
    "- LogisticRegression *max_iter*, *C*, *penality* \n",
    "- SimpleImputer *strategy*\n",
    "\n",
    "6) Fit the GridSearchCV to find the best model\n",
    "\n",
    "7) Use the hold out set to predict and calculate an accuracy score\n"
   ]
  },
  {
   "cell_type": "code",
   "execution_count": 109,
   "metadata": {
    "ExecuteTime": {
     "end_time": "2019-02-28T04:42:34.278086Z",
     "start_time": "2019-02-28T04:42:26.862705Z"
    }
   },
   "outputs": [
    {
     "name": "stdout",
     "output_type": "stream",
     "text": [
      "Tuned Logistic Regression Parameters: {'logisticregression__C': 31.622776601683793, 'logisticregression__max_iter': 100, 'logisticregression__penalty': 'l2', 'simpleimputer__strategy': 'most_frequent'}\n",
      "Best score is 0.7673913043478261\n",
      "Accuracy values should be the same.  Testing two different ways to get at Best Estimator\n",
      "Best Estimator Accuracy: 0.762987012987013\n",
      "  GridSearchCV Accuracy: 0.762987012987013\n"
     ]
    },
    {
     "name": "stderr",
     "output_type": "stream",
     "text": [
      "/Users/patrickryan/Development/python/mygithub/supervised-machine-learning-with-scikit-learn/venv/lib/python3.6/site-packages/sklearn/model_selection/_search.py:841: DeprecationWarning: The default of the `iid` parameter will change from True to False in version 0.22 and will be removed in 0.24. This will change numeric results when test-set sizes are unequal.\n",
      "  DeprecationWarning)\n"
     ]
    }
   ],
   "source": [
    "import pandas as pd\n",
    "import numpy as np\n",
    "from sklearn.impute import SimpleImputer\n",
    "from sklearn.pipeline import make_pipeline\n",
    "from sklearn.linear_model import LogisticRegression\n",
    "from sklearn.model_selection import GridSearchCV\n",
    "from sklearn.model_selection import train_test_split\n",
    "from sklearn.metrics import accuracy_score\n",
    "\n",
    "df = pd.read_csv('./data/diabetes.csv')\n",
    "\n",
    "df.insulin.replace(0, np.nan, inplace=True)\n",
    "\n",
    "df.triceps.replace(0, np.nan, inplace=True)\n",
    "\n",
    "df.bmi.replace(0, np.nan, inplace=True)\n",
    "\n",
    "# ------------  Create X, y variables (features, targets) -------\n",
    "X = df.drop(columns=['diabetes'])\n",
    "y = df['diabetes']\n",
    "\n",
    "# ------------  Create a Holdout Set ----------------\n",
    "\n",
    "X_train, X_test, y_train, y_test = train_test_split(X,y,test_size=0.4, random_state=42)\n",
    "\n",
    "# Imputing missing data\n",
    "# make educated guess about the missing data\n",
    "# Example use the mean of the non-missing\n",
    "\n",
    "# strategy could be:\n",
    "#         allowed_strategies = [\"mean\", \"median\", \"most_frequent\", \"constant\"]\n",
    "imp = SimpleImputer(missing_values=np.nan)\n",
    "logreg = LogisticRegression(solver='liblinear', multi_class='auto')\n",
    "\n",
    "# -----------  Make a Pipeline -------------\n",
    "# make_pipeline automatically names the steps with the lowercase name of the class\n",
    "# simpleimputer\n",
    "# logisticregression\n",
    "pipeline = make_pipeline(imp, logreg)\n",
    "\n",
    "# ---------------  Setup GridSearchCV ---------------------\n",
    "# Instantiate the GridSearchCV object: logreg_cv\n",
    "# Setup the hyperparameter grid\n",
    "c_space = np.logspace(-5, 8, 15)\n",
    "max_iter_values = [100, 300, 500, 1000]\n",
    "param_grid = dict(logisticregression__max_iter=max_iter_values, logisticregression__C=c_space,\n",
    "                  logisticregression__penalty=['l1','l2'],\n",
    "                  simpleimputer__strategy=['mean', 'most_frequent'])\n",
    "\n",
    "gridsearch = GridSearchCV(pipeline, param_grid=param_grid, cv=5)\n",
    "\n",
    "\n",
    "# -------------------- Find Best Model with GridSearch --------\n",
    "# Fit it to the data\n",
    "gridsearch.fit(X_train,y_train)\n",
    "\n",
    "# Print the tuned parameters and score\n",
    "print(\"Tuned Logistic Regression Parameters: {}\".format(gridsearch.best_params_))\n",
    "print(\"Best score is {}\".format(gridsearch.best_score_))\n",
    "\n",
    "# -------------------  Get Best Estimator and test hold out -------------\n",
    "# make predications using best esimator\n",
    "model = gridsearch.best_estimator_\n",
    "\n",
    "# recall that the holdout set, X_test, y_test still have NaN values\n",
    "\n",
    "X_test_imputed = imp.fit_transform(X_test)\n",
    "\n",
    "y_pred = model.predict(X_test_imputed)\n",
    "print('Accuracy values should be the same.  Testing two different ways to get at Best Estimator')\n",
    "print(f'Best Estimator Accuracy: {accuracy_score(y_test, y_pred)}')\n",
    "\n",
    "# make predications using GridSearchCV\n",
    "# Typically you would create a pipeline with the model and parameters found during\n",
    "# the gridsearchcv.\n",
    "y_pred = gridsearch.predict(X_test)\n",
    "print(f'  GridSearchCV Accuracy: {accuracy_score(y_test, y_pred)}')"
   ]
  },
  {
   "cell_type": "markdown",
   "metadata": {},
   "source": [
    "#### Regression Pipeline"
   ]
  },
  {
   "cell_type": "markdown",
   "metadata": {},
   "source": [
    "This section is going bring all of the elements so far into a single modeling pipeline.  \n",
    "\n",
    "Specifically this section will:\n",
    "\n",
    "1) Read in the gapminder_missing.csv data.  This dataset has missing values\n",
    "\n",
    "2) Create a hold out set with train_test_split\n",
    "\n",
    "3) Create a pipeline with a SimpleImputer to fill in Nan and a Lasso Regression model\n",
    "\n",
    "5) Setup a GridSearchCV to find the best set of parameters for:\n",
    "- Lasso *alpha*\n",
    "- SimpleImputer *strategy*\n",
    "\n",
    "6) Fit the GridSearchCV to find the best model\n",
    "\n",
    "7) Use the hold out set to predict and calculate an R^2 score\n",
    "\n"
   ]
  },
  {
   "cell_type": "code",
   "execution_count": 110,
   "metadata": {
    "ExecuteTime": {
     "end_time": "2019-02-28T04:42:38.301696Z",
     "start_time": "2019-02-28T04:42:34.279938Z"
    }
   },
   "outputs": [
    {
     "name": "stdout",
     "output_type": "stream",
     "text": [
      "Tuned Lassso Regression Parameters: {'lasso__alpha': 0.9181818181818182, 'simpleimputer__strategy': 'mean'}\n",
      "Best score is 0.8832775612899613\n",
      "Accuracy values should be the same.  Testing two different ways to get at Best Estimator\n",
      "Best Estimator Accuracy: 0.8354362284862159\n",
      "  GridSearchCV Accuracy: 0.8354362284862159\n"
     ]
    },
    {
     "name": "stderr",
     "output_type": "stream",
     "text": [
      "/Users/patrickryan/Development/python/mygithub/supervised-machine-learning-with-scikit-learn/venv/lib/python3.6/site-packages/sklearn/model_selection/_search.py:841: DeprecationWarning: The default of the `iid` parameter will change from True to False in version 0.22 and will be removed in 0.24. This will change numeric results when test-set sizes are unequal.\n",
      "  DeprecationWarning)\n"
     ]
    }
   ],
   "source": [
    "import pandas as pd\n",
    "import numpy as np\n",
    "from sklearn.impute import SimpleImputer\n",
    "from sklearn.pipeline import make_pipeline\n",
    "from sklearn.linear_model import Lasso\n",
    "from sklearn.model_selection import GridSearchCV\n",
    "from sklearn.model_selection import train_test_split\n",
    "\n",
    "from pandas import Categorical, get_dummies\n",
    "from sklearn.base import TransformerMixin, BaseEstimator\n",
    "\n",
    "df = pd.read_csv('./data/gapminder_missing.csv')\n",
    "\n",
    "\n",
    "# ------------  Create a Holdout Set ----------------\n",
    "y = df['life']\n",
    "# remove life as that this the target\n",
    "# remove Region as that is not numeric\n",
    "X = df.drop(columns=['life', 'Region'])\n",
    "\n",
    "X_train, X_test, y_train, y_test = train_test_split(X,y,test_size=0.4, random_state=42)\n",
    "\n",
    "# Imputing missing data\n",
    "# make educated guess about the missing data\n",
    "# Example use the mean of the non-missing\n",
    "\n",
    "# strategy could be:\n",
    "#         allowed_strategies = [\"mean\", \"median\", \"most_frequent\", \"constant\"]\n",
    "imp = SimpleImputer(missing_values=np.nan)\n",
    "lasso = Lasso()\n",
    "\n",
    "# -----------  Make a Pipeline -------------\n",
    "# make_pipeline automatically names the steps with the lowercase name of the class\n",
    "# simpleimputer\n",
    "# logisticregression\n",
    "pipeline = make_pipeline(imp, lasso)\n",
    "\n",
    "# ---------------  Setup GridSearchCV ---------------------\n",
    "# Instantiate the GridSearchCV object: logreg_cv\n",
    "# Setup the hyperparameter grid\n",
    "alpha_space = np.linspace(0.01, 10, 100)\n",
    "max_iter_values = [100, 300, 500, 1000]\n",
    "param_grid = dict(lasso__alpha=alpha_space,\n",
    "                  simpleimputer__strategy=['mean', 'most_frequent'])\n",
    "\n",
    "gridsearch = GridSearchCV(pipeline, param_grid=param_grid, cv=5)\n",
    "\n",
    "\n",
    "# -------------------- Find Best Model with GridSearch --------\n",
    "# Fit it to the data\n",
    "gridsearch.fit(X_train,y_train)\n",
    "\n",
    "# Print the tuned parameters and score\n",
    "print(\"Tuned Lassso Regression Parameters: {}\".format(gridsearch.best_params_))\n",
    "print(\"Best score is {}\".format(gridsearch.best_score_))\n",
    "\n",
    "# -------------------  Get Best Estimator and test hold out -------------\n",
    "# make predications using best esimator\n",
    "model = gridsearch.best_estimator_\n",
    "\n",
    "# recall that the holdout set, X_test, y_test still have NaN values\n",
    "\n",
    "# print(X_test.head())\n",
    "\n",
    "X_test_imputed = imp.fit_transform(X_test)\n",
    "# print(pd.DataFrame(X_test_imputed).head())\n",
    "\n",
    "print('Accuracy values should be the same.  Testing two different ways to get at Best Estimator')\n",
    "print(f'Best Estimator Accuracy: {model.score(X_test_imputed, y_test)}')\n",
    "\n",
    "\n",
    "# make predications using GridSearchCV\n",
    "# Typically you would create a pipeline with the model and parameters found during\n",
    "# the gridsearchcv.\n",
    "print(f'  GridSearchCV Accuracy: {gridsearch.score(X_test_imputed, y_test)}')"
   ]
  },
  {
   "cell_type": "code",
   "execution_count": 111,
   "metadata": {
    "ExecuteTime": {
     "end_time": "2019-02-28T04:42:38.308137Z",
     "start_time": "2019-02-28T04:42:38.303764Z"
    }
   },
   "outputs": [],
   "source": [
    "y_pred = gridsearch.predict(X_test)"
   ]
  },
  {
   "cell_type": "code",
   "execution_count": 112,
   "metadata": {
    "ExecuteTime": {
     "end_time": "2019-02-28T04:42:38.314178Z",
     "start_time": "2019-02-28T04:42:38.310713Z"
    }
   },
   "outputs": [
    {
     "name": "stdout",
     "output_type": "stream",
     "text": [
      "12.375776957601959\n"
     ]
    }
   ],
   "source": [
    "mse = mean_squared_error(y_test,  y_pred)\n",
    "print(mse)"
   ]
  },
  {
   "cell_type": "markdown",
   "metadata": {},
   "source": [
    "#### Example of FeatureUnion and Pipeline with GridSearchCV\n",
    "\n",
    "Even though FeatureUnions are not in scope for this notebook, I wanted to include an example showing thier usage."
   ]
  },
  {
   "cell_type": "code",
   "execution_count": 113,
   "metadata": {
    "ExecuteTime": {
     "end_time": "2019-02-28T04:42:40.790791Z",
     "start_time": "2019-02-28T04:42:38.315983Z"
    }
   },
   "outputs": [
    {
     "name": "stdout",
     "output_type": "stream",
     "text": [
      "     population  fertility    HIV        CO2  BMI_male      GDP  BMI_female  \\\n",
      "0    34811059.0       2.73   0.10   3.328945  24.59620  12314.0    129.9049   \n",
      "1    19842251.0       6.43   2.00   1.474353  22.25083   7103.0    130.1247   \n",
      "2    40381860.0       2.24   0.50   4.785170  27.50170  14646.0    118.8915   \n",
      "3     2975029.0       1.40   0.10   1.804106  25.35542   7383.0    132.8108   \n",
      "4    21370348.0       1.96   0.10  18.016313  27.56373  41312.0    117.3755   \n",
      "5     8331465.0       1.41   0.30   8.183160  26.46741  43952.0    124.1394   \n",
      "6     8868713.0       1.99   0.10   5.109538  25.65117  14365.0    128.6024   \n",
      "7      348587.0       1.89   3.10   3.131921  27.24594  24373.0    124.3862   \n",
      "8   148252473.0       2.38   0.06   0.319161  20.39742   2265.0    125.0307   \n",
      "9      277315.0        NaN   1.30   6.008279  26.38439  16075.0    126.3940   \n",
      "10    9526453.0       1.42   0.20   6.488174  26.16443  14488.0    129.7968   \n",
      "11   10779155.0       1.82   0.20   9.797337  26.75915  41641.0    121.8227   \n",
      "12     306165.0       2.91   2.40   1.360126  27.02255   8293.0    120.9224   \n",
      "13    8973525.0       5.27   1.20   0.537539       NaN   1646.0    130.2723   \n",
      "14     694990.0       2.51   0.20   0.601210  22.82180   5663.0    125.1258   \n",
      "15    9599916.0       3.48   0.20   1.431829  24.43335   5066.0    122.4155   \n",
      "16    1967866.0       2.86  24.90   2.547205  22.12984  13858.0    133.1307   \n",
      "17  194769696.0       1.90   0.45   2.023773  25.78623  13906.0    124.8745   \n",
      "18    7513646.0       1.43   0.10   6.690139  26.54286  15368.0    128.4721   \n",
      "19   14709011.0       6.04   1.20   0.109419  21.27157   1358.0    130.6651   \n",
      "\n",
      "    life  child_mortality                      Region  \n",
      "0   75.3             29.5  Middle East & North Africa  \n",
      "1   58.3            192.0          Sub-Saharan Africa  \n",
      "2   75.5             15.4                     America  \n",
      "3   72.5             20.0       Europe & Central Asia  \n",
      "4   81.5              5.2         East Asia & Pacific  \n",
      "5   80.4              4.6       Europe & Central Asia  \n",
      "6   70.6             43.3       Europe & Central Asia  \n",
      "7   72.2             14.5                     America  \n",
      "8   68.4             55.9                  South Asia  \n",
      "9   75.3             15.4                     America  \n",
      "10  70.1              7.2       Europe & Central Asia  \n",
      "11  79.4              4.7       Europe & Central Asia  \n",
      "12  70.7             20.1                     America  \n",
      "13  63.2            116.3          Sub-Saharan Africa  \n",
      "14  67.6             48.1                  South Asia  \n",
      "15  70.9             52.0                     America  \n",
      "16  61.2             63.8          Sub-Saharan Africa  \n",
      "17  73.9             18.6                     America  \n",
      "18  73.2             13.7       Europe & Central Asia  \n",
      "19  59.4            130.4          Sub-Saharan Africa  \n",
      "Tuned Ridge Regression Parameters: {'pipeline__featureunion__pipeline-1__simpleimputer__strategy': 'mean', 'ridge__alpha': 5, 'ridge__max_iter': 100, 'ridge__normalize': False}\n",
      "Best R^2 score is 0.8551081085006054\n"
     ]
    },
    {
     "name": "stderr",
     "output_type": "stream",
     "text": [
      "/Users/patrickryan/Development/python/mygithub/supervised-machine-learning-with-scikit-learn/venv/lib/python3.6/site-packages/sklearn/model_selection/_search.py:841: DeprecationWarning: The default of the `iid` parameter will change from True to False in version 0.22 and will be removed in 0.24. This will change numeric results when test-set sizes are unequal.\n",
      "  DeprecationWarning)\n"
     ]
    }
   ],
   "source": [
    "# Import pandas\n",
    "import pandas as pd\n",
    "from sklearn.linear_model import Ridge\n",
    "from sklearn.model_selection import cross_val_score, train_test_split\n",
    "from sklearn.model_selection import GridSearchCV\n",
    "from sklearn.pipeline import make_pipeline, make_union\n",
    "from sklearn.preprocessing import StandardScaler\n",
    "from sklearn.impute import SimpleImputer\n",
    "import numpy as np\n",
    "from pandas import Categorical, get_dummies\n",
    "from sklearn.base import TransformerMixin, BaseEstimator\n",
    "\n",
    "\"\"\"\n",
    "https://masongallo.github.io/machine/learning,/python/2017/10/07/machine-learning-pipelines.html\n",
    "\"\"\"\n",
    "class ItemSelector(BaseEstimator, TransformerMixin):\n",
    "    def __init__(self, key):\n",
    "        self.key = key\n",
    "    def fit(self, x, y=None):\n",
    "        return self\n",
    "    def transform(self, df):\n",
    "        return df[self.key]\n",
    "\n",
    "\n",
    "class CategoricalOneHotEncoder(BaseEstimator, TransformerMixin):\n",
    "    \"\"\"One hot encoder for all categorical features\"\"\"\n",
    "    def __init__(self, attribute_names):\n",
    "        self.attribute_names = attribute_names\n",
    "\n",
    "    def fit(self, X, y=None):\n",
    "        cats = {}\n",
    "        for column in self.attribute_names:\n",
    "            cats[column] = X[column].unique().tolist()\n",
    "        self.categoricals = cats\n",
    "        return self\n",
    "\n",
    "    def transform(self, X, y=None):\n",
    "        df = X.copy()\n",
    "        for column in self.attribute_names:\n",
    "            df[column] = Categorical(df[column], categories=self.categoricals[column])\n",
    "        new_df = get_dummies(df, drop_first=True)\n",
    "        # in case we need them later\n",
    "        self.columns = new_df.columns\n",
    "        return new_df\n",
    "\n",
    "# Read 'gapminder.csv' into a DataFrame: df\n",
    "df = pd.read_csv('./data/gapminder_missing.csv')\n",
    "print(df.head(20))\n",
    "y = df['life']\n",
    "# remove life as that this the target\n",
    "X = df.drop(columns=['life'])\n",
    "\n",
    "columns_to_encode = ['Region']\n",
    "columns_to_scale  = df.drop(columns=['life', 'Region']).columns.tolist()\n",
    "\n",
    "\n",
    "scaler = StandardScaler()\n",
    "\n",
    "simple_imputer = SimpleImputer(missing_values=np.nan)\n",
    "\n",
    "cat_ohe = CategoricalOneHotEncoder(['Region'])\n",
    "\n",
    "ridge = Ridge()\n",
    "\n",
    "feature_pipeline = make_pipeline(\n",
    "        make_union(\n",
    "            make_pipeline(ItemSelector(key=columns_to_scale), simple_imputer, scaler),\n",
    "            make_pipeline(ItemSelector(key=columns_to_encode), cat_ohe)\n",
    "        )\n",
    "    )\n",
    "\n",
    "model_pipeline = make_pipeline(feature_pipeline, ridge)\n",
    "\n",
    "# ---------------  Setup GridSearchCV ---------------------\n",
    "# Instantiate the GridSearchCV object: logreg_cv\n",
    "# Setup the hyperparameter grid\n",
    "alpha_space = [0.1, 1, 5, 10]\n",
    "max_iter_values = [100, 300]\n",
    "param_grid = dict(ridge__alpha=alpha_space, ridge__normalize=[True,False], ridge__max_iter=max_iter_values)\n",
    "param_grid['pipeline__featureunion__pipeline-1__simpleimputer__strategy'] = ['mean', 'most_frequent']\n",
    "\n",
    "gridsearch = GridSearchCV(model_pipeline, param_grid=param_grid, cv=5)\n",
    "\n",
    "\n",
    "gridsearch.fit(X, y)\n",
    "\n",
    "# Print the tuned parameters and score\n",
    "print(\"Tuned Ridge Regression Parameters: {}\".format(gridsearch.best_params_))\n",
    "print(\"Best R^2 score is {}\".format(gridsearch.best_score_))\n"
   ]
  }
 ],
 "metadata": {
  "kernelspec": {
   "display_name": "Python 3",
   "language": "python",
   "name": "python3"
  },
  "language_info": {
   "codemirror_mode": {
    "name": "ipython",
    "version": 3
   },
   "file_extension": ".py",
   "mimetype": "text/x-python",
   "name": "python",
   "nbconvert_exporter": "python",
   "pygments_lexer": "ipython3",
   "version": "3.6.6"
  },
  "toc": {
   "base_numbering": 1,
   "nav_menu": {},
   "number_sections": true,
   "sideBar": true,
   "skip_h1_title": false,
   "title_cell": "Table of Contents",
   "title_sidebar": "Contents",
   "toc_cell": false,
   "toc_position": {},
   "toc_section_display": true,
   "toc_window_display": false
  }
 },
 "nbformat": 4,
 "nbformat_minor": 2
}
